{
  "cells": [
    {
      "cell_type": "markdown",
      "metadata": {
        "id": "4Tp_V7XXJmOZ"
      },
      "source": [
        "# Import necessary libraries:"
      ]
    },
    {
      "cell_type": "code",
      "execution_count": 51,
      "metadata": {
        "id": "Q5FrtBgZyf5l"
      },
      "outputs": [],
      "source": [
        "import pandas as pd\n",
        "import numpy as np\n",
        "import matplotlib.pyplot as plt\n",
        "import seaborn as sns\n",
        "from sklearn.preprocessing import StandardScaler, OneHotEncoder\n"
      ]
    },
    {
      "cell_type": "markdown",
      "metadata": {
        "id": "RoXy8X7ZJ0ua"
      },
      "source": [
        "# Load and Preprocess dataset"
      ]
    },
    {
      "cell_type": "code",
      "execution_count": 52,
      "metadata": {
        "id": "dtxk_QKzyyBP"
      },
      "outputs": [],
      "source": [
        "# Load the dataset using pandas.read_csv\n",
        "\n",
        "df = pd.read_csv(\"adult.csv\")"
      ]
    },
    {
      "cell_type": "code",
      "execution_count": 53,
      "metadata": {
        "id": "ouapK0P0zAxA"
      },
      "outputs": [
        {
          "name": "stdout",
          "output_type": "stream",
          "text": [
            "   age workclass  fnlwgt education  educational-num marital-status  \\\n",
            "0   25   Private  226802      11th                7  Never-married   \n",
            "\n",
            "          occupation relationship   race gender  capital-gain  capital-loss  \\\n",
            "0  Machine-op-inspct    Own-child  Black   Male             0             0   \n",
            "\n",
            "   hours-per-week native-country income  \n",
            "0              40  United-States  <=50K  \n"
          ]
        }
      ],
      "source": [
        "# Print first rows the dataset\n",
        "\n",
        "print(df.head(1))"
      ]
    },
    {
      "cell_type": "code",
      "execution_count": 54,
      "metadata": {
        "id": "OWDhYgoqzkiV"
      },
      "outputs": [
        {
          "data": {
            "text/plain": [
              "(48842, 15)"
            ]
          },
          "execution_count": 54,
          "metadata": {},
          "output_type": "execute_result"
        }
      ],
      "source": [
        "# Drop rows with any missing values\n",
        "df.shape"
      ]
    },
    {
      "cell_type": "code",
      "execution_count": 55,
      "metadata": {},
      "outputs": [
        {
          "data": {
            "text/plain": [
              "52"
            ]
          },
          "execution_count": 55,
          "metadata": {},
          "output_type": "execute_result"
        }
      ],
      "source": [
        "# Check for the duplicates in the first dataset\n",
        "sum(df.duplicated())"
      ]
    },
    {
      "cell_type": "code",
      "execution_count": 56,
      "metadata": {},
      "outputs": [],
      "source": [
        "# Check for duplicates in the title variable in cl_mov\n",
        "dup = df[df.duplicated() == True]"
      ]
    },
    {
      "cell_type": "code",
      "execution_count": 57,
      "metadata": {},
      "outputs": [],
      "source": [
        "# Deleting all duplicate rows.\n",
        "df = df.drop_duplicates()"
      ]
    },
    {
      "cell_type": "code",
      "execution_count": 58,
      "metadata": {},
      "outputs": [
        {
          "data": {
            "text/plain": [
              "age                   74\n",
              "workclass              9\n",
              "fnlwgt             28523\n",
              "education             16\n",
              "educational-num       16\n",
              "marital-status         7\n",
              "occupation            15\n",
              "relationship           6\n",
              "race                   5\n",
              "gender                 2\n",
              "capital-gain         123\n",
              "capital-loss          99\n",
              "hours-per-week        96\n",
              "native-country        42\n",
              "income                 2\n",
              "dtype: int64"
            ]
          },
          "execution_count": 58,
          "metadata": {},
          "output_type": "execute_result"
        }
      ],
      "source": [
        "# Check for unique values in each variable \n",
        "df.nunique()"
      ]
    },
    {
      "cell_type": "code",
      "execution_count": 59,
      "metadata": {},
      "outputs": [
        {
          "data": {
            "text/plain": [
              "age                0\n",
              "workclass          0\n",
              "fnlwgt             0\n",
              "education          0\n",
              "educational-num    0\n",
              "marital-status     0\n",
              "occupation         0\n",
              "relationship       0\n",
              "race               0\n",
              "gender             0\n",
              "capital-gain       0\n",
              "capital-loss       0\n",
              "hours-per-week     0\n",
              "native-country     0\n",
              "income             0\n",
              "dtype: int64"
            ]
          },
          "execution_count": 59,
          "metadata": {},
          "output_type": "execute_result"
        }
      ],
      "source": [
        "# Total number of null values in each feature.\n",
        "df.isnull().sum()"
      ]
    },
    {
      "cell_type": "code",
      "execution_count": 60,
      "metadata": {},
      "outputs": [],
      "source": [
        "# Missing values are represented as '?' in this dataset.\n",
        "df = df.replace(['?'], np.nan)"
      ]
    },
    {
      "cell_type": "code",
      "execution_count": 61,
      "metadata": {},
      "outputs": [
        {
          "data": {
            "text/plain": [
              "age                   0\n",
              "workclass          2795\n",
              "fnlwgt                0\n",
              "education             0\n",
              "educational-num       0\n",
              "marital-status        0\n",
              "occupation         2805\n",
              "relationship          0\n",
              "race                  0\n",
              "gender                0\n",
              "capital-gain          0\n",
              "capital-loss          0\n",
              "hours-per-week        0\n",
              "native-country      856\n",
              "income                0\n",
              "dtype: int64"
            ]
          },
          "execution_count": 61,
          "metadata": {},
          "output_type": "execute_result"
        }
      ],
      "source": [
        "# Total number of null values in each feature.\n",
        "df.isnull().sum()"
      ]
    },
    {
      "cell_type": "code",
      "execution_count": 62,
      "metadata": {},
      "outputs": [],
      "source": [
        "# Finally, drop rows with any missing values\n",
        "df.dropna(inplace=True)"
      ]
    },
    {
      "cell_type": "code",
      "execution_count": 65,
      "metadata": {},
      "outputs": [
        {
          "data": {
            "text/plain": [
              "(45175, 15)"
            ]
          },
          "execution_count": 65,
          "metadata": {},
          "output_type": "execute_result"
        }
      ],
      "source": [
        "df.shape"
      ]
    },
    {
      "cell_type": "markdown",
      "metadata": {
        "id": "O1zDRpgRJ-bZ"
      },
      "source": [
        "# Visualize dataset"
      ]
    },
    {
      "cell_type": "code",
      "execution_count": 63,
      "metadata": {
        "id": "lz_UMo371bbB"
      },
      "outputs": [
        {
          "name": "stdout",
          "output_type": "stream",
          "text": [
            "\n",
            "IPython -- An enhanced Interactive Python\n",
            "=========================================\n",
            "\n",
            "IPython offers a fully compatible replacement for the standard Python\n",
            "interpreter, with convenient shell features, special commands, command\n",
            "history mechanism and output results caching.\n",
            "\n",
            "At your system command line, type 'ipython -h' to see the command line\n",
            "options available. This document only describes interactive features.\n",
            "\n",
            "GETTING HELP\n",
            "------------\n",
            "\n",
            "Within IPython you have various way to access help:\n",
            "\n",
            "  ?         -> Introduction and overview of IPython's features (this screen).\n",
            "  object?   -> Details about 'object'.\n",
            "  object??  -> More detailed, verbose information about 'object'.\n",
            "  %quickref -> Quick reference of all IPython specific syntax and magics.\n",
            "  help      -> Access Python's own help system.\n",
            "\n",
            "If you are in terminal IPython you can quit this screen by pressing `q`.\n",
            "\n",
            "\n",
            "MAIN FEATURES\n",
            "-------------\n",
            "\n",
            "* Access to the standard Python help with object docstrings and the Python\n",
            "  manuals. Simply type 'help' (no quotes) to invoke it.\n",
            "\n",
            "* Magic commands: type %magic for information on the magic subsystem.\n",
            "\n",
            "* System command aliases, via the %alias command or the configuration file(s).\n",
            "\n",
            "* Dynamic object information:\n",
            "\n",
            "  Typing ?word or word? prints detailed information about an object. Certain\n",
            "  long strings (code, etc.) get snipped in the center for brevity.\n",
            "\n",
            "  Typing ??word or word?? gives access to the full information without\n",
            "  snipping long strings. Strings that are longer than the screen are printed\n",
            "  through the less pager.\n",
            "\n",
            "  The ?/?? system gives access to the full source code for any object (if\n",
            "  available), shows function prototypes and other useful information.\n",
            "\n",
            "  If you just want to see an object's docstring, type '%pdoc object' (without\n",
            "  quotes, and without % if you have automagic on).\n",
            "\n",
            "* Tab completion in the local namespace:\n",
            "\n",
            "  At any time, hitting tab will complete any available python commands or\n",
            "  variable names, and show you a list of the possible completions if there's\n",
            "  no unambiguous one. It will also complete filenames in the current directory.\n",
            "\n",
            "* Search previous command history in multiple ways:\n",
            "\n",
            "  - Start typing, and then use arrow keys up/down or (Ctrl-p/Ctrl-n) to search\n",
            "    through the history items that match what you've typed so far.\n",
            "\n",
            "  - Hit Ctrl-r: opens a search prompt. Begin typing and the system searches\n",
            "    your history for lines that match what you've typed so far, completing as\n",
            "    much as it can.\n",
            "\n",
            "  - %hist: search history by index.\n",
            "\n",
            "* Persistent command history across sessions.\n",
            "\n",
            "* Logging of input with the ability to save and restore a working session.\n",
            "\n",
            "* System shell with !. Typing !ls will run 'ls' in the current directory.\n",
            "\n",
            "* The reload command does a 'deep' reload of a module: changes made to the\n",
            "  module since you imported will actually be available without having to exit.\n",
            "\n",
            "* Verbose and colored exception traceback printouts. See the magic xmode and\n",
            "  xcolor functions for details (just type %magic).\n",
            "\n",
            "* Input caching system:\n",
            "\n",
            "  IPython offers numbered prompts (In/Out) with input and output caching. All\n",
            "  input is saved and can be retrieved as variables (besides the usual arrow\n",
            "  key recall).\n",
            "\n",
            "  The following GLOBAL variables always exist (so don't overwrite them!):\n",
            "  _i: stores previous input.\n",
            "  _ii: next previous.\n",
            "  _iii: next-next previous.\n",
            "  _ih : a list of all input _ih[n] is the input from line n.\n",
            "\n",
            "  Additionally, global variables named _i<n> are dynamically created (<n>\n",
            "  being the prompt counter), such that _i<n> == _ih[<n>]\n",
            "\n",
            "  For example, what you typed at prompt 14 is available as _i14 and _ih[14].\n",
            "\n",
            "  You can create macros which contain multiple input lines from this history,\n",
            "  for later re-execution, with the %macro function.\n",
            "\n",
            "  The history function %hist allows you to see any part of your input history\n",
            "  by printing a range of the _i variables. Note that inputs which contain\n",
            "  magic functions (%) appear in the history with a prepended comment. This is\n",
            "  because they aren't really valid Python code, so you can't exec them.\n",
            "\n",
            "* Output caching system:\n",
            "\n",
            "  For output that is returned from actions, a system similar to the input\n",
            "  cache exists but using _ instead of _i. Only actions that produce a result\n",
            "  (NOT assignments, for example) are cached. If you are familiar with\n",
            "  Mathematica, IPython's _ variables behave exactly like Mathematica's %\n",
            "  variables.\n",
            "\n",
            "  The following GLOBAL variables always exist (so don't overwrite them!):\n",
            "  _ (one underscore): previous output.\n",
            "  __ (two underscores): next previous.\n",
            "  ___ (three underscores): next-next previous.\n",
            "\n",
            "  Global variables named _<n> are dynamically created (<n> being the prompt\n",
            "  counter), such that the result of output <n> is always available as _<n>.\n",
            "\n",
            "  Finally, a global dictionary named _oh exists with entries for all lines\n",
            "  which generated output.\n",
            "\n",
            "* Directory history:\n",
            "\n",
            "  Your history of visited directories is kept in the global list _dh, and the\n",
            "  magic %cd command can be used to go to any entry in that list.\n",
            "\n",
            "* Auto-parentheses and auto-quotes (adapted from Nathan Gray's LazyPython)\n",
            "\n",
            "  1. Auto-parentheses\n",
            "        \n",
            "     Callable objects (i.e. functions, methods, etc) can be invoked like\n",
            "     this (notice the commas between the arguments)::\n",
            "       \n",
            "         In [1]: callable_ob arg1, arg2, arg3\n",
            "       \n",
            "     and the input will be translated to this::\n",
            "       \n",
            "         callable_ob(arg1, arg2, arg3)\n",
            "       \n",
            "     This feature is off by default (in rare cases it can produce\n",
            "     undesirable side-effects), but you can activate it at the command-line\n",
            "     by starting IPython with `--autocall 1`, set it permanently in your\n",
            "     configuration file, or turn on at runtime with `%autocall 1`.\n",
            "\n",
            "     You can force auto-parentheses by using '/' as the first character\n",
            "     of a line.  For example::\n",
            "       \n",
            "          In [1]: /globals             # becomes 'globals()'\n",
            "       \n",
            "     Note that the '/' MUST be the first character on the line!  This\n",
            "     won't work::\n",
            "       \n",
            "          In [2]: print /globals    # syntax error\n",
            "\n",
            "     In most cases the automatic algorithm should work, so you should\n",
            "     rarely need to explicitly invoke /. One notable exception is if you\n",
            "     are trying to call a function with a list of tuples as arguments (the\n",
            "     parenthesis will confuse IPython)::\n",
            "       \n",
            "          In [1]: zip (1,2,3),(4,5,6)  # won't work\n",
            "       \n",
            "     but this will work::\n",
            "       \n",
            "          In [2]: /zip (1,2,3),(4,5,6)\n",
            "          ------> zip ((1,2,3),(4,5,6))\n",
            "          Out[2]= [(1, 4), (2, 5), (3, 6)]\n",
            "\n",
            "     IPython tells you that it has altered your command line by\n",
            "     displaying the new command line preceded by -->.  e.g.::\n",
            "       \n",
            "          In [18]: callable list\n",
            "          -------> callable (list)\n",
            "\n",
            "  2. Auto-Quoting\n",
            "    \n",
            "     You can force auto-quoting of a function's arguments by using ',' as\n",
            "     the first character of a line.  For example::\n",
            "       \n",
            "          In [1]: ,my_function /home/me   # becomes my_function(\"/home/me\")\n",
            "\n",
            "     If you use ';' instead, the whole argument is quoted as a single\n",
            "     string (while ',' splits on whitespace)::\n",
            "       \n",
            "          In [2]: ,my_function a b c   # becomes my_function(\"a\",\"b\",\"c\")\n",
            "          In [3]: ;my_function a b c   # becomes my_function(\"a b c\")\n",
            "\n",
            "     Note that the ',' MUST be the first character on the line!  This\n",
            "     won't work::\n",
            "       \n",
            "          In [4]: x = ,my_function /home/me    # syntax error\n"
          ]
        }
      ],
      "source": [
        "# Visualize the dataset using scatter plots, histograms, box plots, and pair plots to understand the data distribution, identify outliers, and detect patterns.\n",
        "\n",
        "\n",
        "# Scatter plot for Age vs Hours-per-week\n",
        "\n",
        "# your code here:\n",
        "\n",
        "?\n",
        "\n",
        "plt.show()\n",
        "\n",
        "\n",
        "\n",
        "\n",
        "# Histogram for distribution of age distribution\n",
        "\n",
        "# your code here:\n",
        "\n",
        "?\n",
        "\n",
        "plt.show()\n",
        "\n",
        "\n",
        "\n",
        "# Box plot for age to see outliers\n",
        "\n",
        "# your code here:\n",
        "\n",
        "?\n",
        "\n",
        "plt.show()\n",
        "\n",
        "\n",
        "# Pair plot for Age, education-num, and hours-per-week\n",
        "\n",
        "# your code here:\n",
        "\n",
        "?\n",
        "\n",
        "plt.show()\n",
        "\n",
        "\n"
      ]
    },
    {
      "cell_type": "markdown",
      "metadata": {
        "id": "W0lVL8_TKHwE"
      },
      "source": [
        "# Encode and Normalize dataset"
      ]
    },
    {
      "cell_type": "code",
      "execution_count": 64,
      "metadata": {
        "id": "tA_r4Qdgz70S"
      },
      "outputs": [
        {
          "ename": "SyntaxError",
          "evalue": "invalid syntax (4253469671.py, line 3)",
          "output_type": "error",
          "traceback": [
            "\u001b[0;36m  Cell \u001b[0;32mIn[64], line 3\u001b[0;36m\u001b[0m\n\u001b[0;31m    df_encoded = ?\u001b[0m\n\u001b[0m                 ^\u001b[0m\n\u001b[0;31mSyntaxError\u001b[0m\u001b[0;31m:\u001b[0m invalid syntax\n"
          ]
        }
      ],
      "source": [
        "# Use one-hot endcoding to convert categorical features into numerical format\n",
        "\n",
        "df_encoded = ?"
      ]
    },
    {
      "cell_type": "code",
      "execution_count": null,
      "metadata": {
        "id": "qNQOYKJ_0b20"
      },
      "outputs": [],
      "source": [
        "# Use StandardScaler from sklearn.preprocessing to normalize the features.\n",
        "\n",
        "scaler = StandardScaler()\n",
        "\n",
        "\n",
        "# your code here:\n",
        "\n",
        "?\n"
      ]
    },
    {
      "cell_type": "markdown",
      "metadata": {
        "id": "6CofCroeKTCb"
      },
      "source": [
        "# Implement PCA from Scratch"
      ]
    },
    {
      "cell_type": "code",
      "execution_count": null,
      "metadata": {
        "id": "cgLtMhso00BO"
      },
      "outputs": [],
      "source": [
        "# Start by ensuring all data is numeric and normalized.\n",
        "# Subtract the mean to center the data, calculate the covariance matrix, find eigenvalues and eigenvectors, sort them, and project the data onto the principal components.\n",
        "# This section will test your understanding of PCA's mathematical foundation.\n",
        "\n",
        "\n",
        "# your code here:\n",
        "\n",
        "?\n",
        "\n",
        "\n"
      ]
    },
    {
      "cell_type": "markdown",
      "metadata": {
        "id": "GB2uTZWTKcw_"
      },
      "source": [
        "# Visualize the PCA-reduced data"
      ]
    },
    {
      "cell_type": "code",
      "execution_count": null,
      "metadata": {
        "id": "Cvaqs8Nb1OAy"
      },
      "outputs": [],
      "source": [
        "\n",
        "# Scatter Plot for 2D PCA Data (choose 2 pricipal components)\n",
        "\n",
        "# your code here:\n",
        "\n",
        "?\n",
        "\n",
        "plt.show()\n",
        "\n",
        "\n",
        "\n",
        "# Heatmap for Principal Component Correlation\n",
        "# This requires calculating the correlation matrix between the original data and the PCA-transformed data.\n",
        "\n",
        "correlation_matrix = ?\n",
        "\n",
        "sns.heatmap(correlation_matrix, annot=True, cmap='coolwarm')\n",
        "plt.title('Correlation between Original Features and Principal Components')\n",
        "plt.xlabel('Principal Components')\n",
        "plt.ylabel('Original Features')\n",
        "plt.show()\n",
        "\n",
        "\n",
        "\n"
      ]
    }
  ],
  "metadata": {
    "colab": {
      "provenance": []
    },
    "kernelspec": {
      "display_name": "Python 3",
      "name": "python3"
    },
    "language_info": {
      "codemirror_mode": {
        "name": "ipython",
        "version": 3
      },
      "file_extension": ".py",
      "mimetype": "text/x-python",
      "name": "python",
      "nbconvert_exporter": "python",
      "pygments_lexer": "ipython3",
      "version": "3.10.12"
    }
  },
  "nbformat": 4,
  "nbformat_minor": 0
}
