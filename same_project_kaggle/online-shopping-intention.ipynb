{
 "cells": [
  {
   "attachments": {
    "83463984-36de-4c5a-b325-916d1fe9b54b.jpg": {
     "image/jpeg": "[encoded data removed]"
    }
   },
   "cell_type": "markdown",
   "id": "dfc98af0",
   "metadata": {
    "papermill": {
     "duration": 0.064265,
     "end_time": "2022-06-25T18:34:58.856764",
     "exception": false,
     "start_time": "2022-06-25T18:34:58.792499",
     "status": "completed"
    },
    "tags": []
   },
   "source": [
    "# ONLINE SHOPPING INTENTION ANALYSIS - EXPLORATION ANALYSIS AND ML PREDICTION\n",
    "\n",
    "![istockphoto-1135609382-612x612.jpg](attachment:83463984-36de-4c5a-b325-916d1fe9b54b.jpg)"
   ]
  },
  {
   "cell_type": "markdown",
   "id": "70496381",
   "metadata": {
    "papermill": {
     "duration": 0.06266,
     "end_time": "2022-06-25T18:34:58.986965",
     "exception": false,
     "start_time": "2022-06-25T18:34:58.924305",
     "status": "completed"
    },
    "tags": []
   },
   "source": [
    "### This notebook features exploration analysis and implementation of following ML models : PCA (Principal Component Analysis) for Dimensionality Reduction, Logistic Regression, Random Forest, and Keras Deep Learning Sequential Model for Classification. The models will be tuned using GridSearchCV. Keras model will be tuned by GridSearchCV while using Keras wrapper for ScikitLearn .\n",
    "\n"
   ]
  },
  {
   "cell_type": "code",
   "execution_count": 1,
   "id": "53ca3122",
   "metadata": {
    "execution": {
     "iopub.execute_input": "2022-06-25T18:34:59.117510Z",
     "iopub.status.busy": "2022-06-25T18:34:59.116813Z",
     "iopub.status.idle": "2022-06-25T18:35:07.574193Z",
     "shell.execute_reply": "2022-06-25T18:35:07.573243Z"
    },
    "papermill": {
     "duration": 8.524513,
     "end_time": "2022-06-25T18:35:07.576783",
     "exception": false,
     "start_time": "2022-06-25T18:34:59.052270",
     "status": "completed"
    },
    "tags": []
   },
   "outputs": [],
   "source": [
    "\n",
    "import numpy as np\n",
    "import pandas as pd\n",
    "import matplotlib.pyplot as plt\n",
    "import seaborn as sns\n",
    "from scipy.stats import chi2_contingency\n",
    "from statsmodels.stats.outliers_influence import variance_inflation_factor\n",
    "from sklearn.decomposition import PCA\n",
    "from sklearn.preprocessing import StandardScaler,MinMaxScaler, PowerTransformer\n",
    "from sklearn.model_selection import train_test_split, cross_validate, GridSearchCV\n",
    "from sklearn.linear_model import LogisticRegression\n",
    "from sklearn.ensemble import RandomForestClassifier\n",
    "from scikitplot.metrics import plot_roc, plot_cumulative_gain\n",
    "from sklearn.metrics import roc_auc_score, classification_report, confusion_matrix, precision_recall_curve\n",
    "from tensorflow.keras.models import Sequential\n",
    "from tensorflow.keras.layers import Dense, Dropout\n",
    "from tensorflow.keras.metrics import AUC\n",
    "from tensorflow.keras.callbacks import EarlyStopping\n",
    "from tensorflow.keras import regularizers\n",
    "from tensorflow.keras.wrappers.scikit_learn import KerasClassifier\n",
    "\n",
    "%matplotlib inline"
   ]
  },
  {
   "cell_type": "code",
   "execution_count": 2,
   "id": "aad26d8e",
   "metadata": {
    "execution": {
     "iopub.execute_input": "2022-06-25T18:35:07.704673Z",
     "iopub.status.busy": "2022-06-25T18:35:07.704148Z",
     "iopub.status.idle": "2022-06-25T18:35:07.771389Z",
     "shell.execute_reply": "2022-06-25T18:35:07.770422Z"
    },
    "papermill": {
     "duration": 0.133922,
     "end_time": "2022-06-25T18:35:07.774152",
     "exception": false,
     "start_time": "2022-06-25T18:35:07.640230",
     "status": "completed"
    },
    "tags": []
   },
   "outputs": [],
   "source": [
    "data=pd.read_csv('../input/online-shoppers-purchasing-intention-dataset/online_shoppers_intention.csv')"
   ]
  },
  {
   "cell_type": "code",
   "execution_count": 3,
   "id": "7b60a6f6",
   "metadata": {
    "execution": {
     "iopub.execute_input": "2022-06-25T18:35:07.901962Z",
     "iopub.status.busy": "2022-06-25T18:35:07.901687Z",
     "iopub.status.idle": "2022-06-25T18:35:07.914916Z",
     "shell.execute_reply": "2022-06-25T18:35:07.914279Z"
    },
    "papermill": {
     "duration": 0.079228,
     "end_time": "2022-06-25T18:35:07.916594",
     "exception": false,
     "start_time": "2022-06-25T18:35:07.837366",
     "status": "completed"
    },
    "tags": []
   },
   "outputs": [],
   "source": [
    "#We will define some functions which will be helpful later\n",
    "\n",
    "def categorical_analysis(var, **kwargs):\n",
    "    fig, axes= plt.subplots(nrows=1, ncols=2, figsize=(15,5))\n",
    "    axes[0].set_title(f'Variable {var}')\n",
    "    sns.countplot(data=data, x=var, **kwargs, ax=axes[0])\n",
    "    crossed=pd.crosstab(data[var], data.Revenue, normalize=0).unstack().reset_index().rename(columns={0:'Percentage'})\n",
    "    crossed.loc[crossed.Revenue==False,'Percentage']=1\n",
    "    sns.barplot(data=crossed, x=var, y='Percentage', hue='Revenue', ax=axes[1], **kwargs, dodge=False)\n",
    "    axes[1].set_title(f'Revenue ~ {var}')\n",
    "    plt.suptitle(f'Variable {var}')\n",
    "    plt.show()   \n",
    "    print('\\n CHI SQUARE TEST \\n')\n",
    "    p_value=chi2_contingency(pd.crosstab(data[var], data.Revenue))[1]\n",
    "    if p_value>0.05:\n",
    "        print(f'The p_value is {p_value} and therefore we have to accept the null hypothesis that there is no significant relationship between {var} and Revenue')\n",
    "    else:\n",
    "        print(f'The p_value is {p_value} and therefore we can reject the null hypothesis that there is no significant relationship between {var} and Revenue')\n",
    "        \n",
    "        \n",
    "def continuous_analysis(var,data=data, **kwargs):\n",
    "    fig, axes= plt.subplots(nrows=1, ncols=2, figsize=(15,5))\n",
    "    axes[0].set_title(f'Variable {var}')\n",
    "    sns.histplot(data, x=var, **kwargs, ax=axes[0], bins=30, hue='Revenue', multiple='stack')\n",
    "    sns.boxplot(data=data,y=var,x='Revenue', hue='Revenue' , ax=axes[1], **kwargs)\n",
    "    plt.title(f'Revenue ~ {var}')\n",
    "    plt.suptitle(f'Variable {var}')\n",
    "    plt.show()\n",
    "    print(f'\\n The maximum value is {data[var].max()} \\n The minimum value is {data[var].min()} ')\n",
    "    "
   ]
  },
  {
   "cell_type": "code",
   "execution_count": 4,
   "id": "54f4f8ad",
   "metadata": {
    "execution": {
     "iopub.execute_input": "2022-06-25T18:35:08.046284Z",
     "iopub.status.busy": "2022-06-25T18:35:08.045338Z",
     "iopub.status.idle": "2022-06-25T18:35:08.073560Z",
     "shell.execute_reply": "2022-06-25T18:35:08.072910Z"
    },
    "papermill": {
     "duration": 0.09483,
     "end_time": "2022-06-25T18:35:08.075328",
     "exception": false,
     "start_time": "2022-06-25T18:35:07.980498",
     "status": "completed"
    },
    "tags": []
   },
   "outputs": [
    {
     "data": {
      "text/html": [
       "<div>\n",
       "<style scoped>\n",
       "    .dataframe tbody tr th:only-of-type {\n",
       "        vertical-align: middle;\n",
       "    }\n",
       "\n",
       "    .dataframe tbody tr th {\n",
       "        vertical-align: top;\n",
       "    }\n",
       "\n",
       "    .dataframe thead th {\n",
       "        text-align: right;\n",
       "    }\n",
       "</style>\n",
       "<table border=\"1\" class=\"dataframe\">\n",
       "  <thead>\n",
       "    <tr style=\"text-align: right;\">\n",
       "      <th></th>\n",
       "      <th>Administrative</th>\n",
       "      <th>Administrative_Duration</th>\n",
       "      <th>Informational</th>\n",
       "      <th>Informational_Duration</th>\n",
       "      <th>ProductRelated</th>\n",
       "      <th>ProductRelated_Duration</th>\n",
       "      <th>BounceRates</th>\n",
       "      <th>ExitRates</th>\n",
       "      <th>PageValues</th>\n",
       "      <th>SpecialDay</th>\n",
       "      <th>Month</th>\n",
       "      <th>OperatingSystems</th>\n",
       "      <th>Browser</th>\n",
       "      <th>Region</th>\n",
       "      <th>TrafficType</th>\n",
       "      <th>VisitorType</th>\n",
       "      <th>Weekend</th>\n",
       "      <th>Revenue</th>\n",
       "    </tr>\n",
       "  </thead>\n",
       "  <tbody>\n",
       "    <tr>\n",
       "      <th>0</th>\n",
       "      <td>0</td>\n",
       "      <td>0.0</td>\n",
       "      <td>0</td>\n",
       "      <td>0.0</td>\n",
       "      <td>1</td>\n",
       "      <td>0.000000</td>\n",
       "      <td>0.20</td>\n",
       "      <td>0.20</td>\n",
       "      <td>0.0</td>\n",
       "      <td>0.0</td>\n",
       "      <td>Feb</td>\n",
       "      <td>1</td>\n",
       "      <td>1</td>\n",
       "      <td>1</td>\n",
       "      <td>1</td>\n",
       "      <td>Returning_Visitor</td>\n",
       "      <td>False</td>\n",
       "      <td>False</td>\n",
       "    </tr>\n",
       "    <tr>\n",
       "      <th>1</th>\n",
       "      <td>0</td>\n",
       "      <td>0.0</td>\n",
       "      <td>0</td>\n",
       "      <td>0.0</td>\n",
       "      <td>2</td>\n",
       "      <td>64.000000</td>\n",
       "      <td>0.00</td>\n",
       "      <td>0.10</td>\n",
       "      <td>0.0</td>\n",
       "      <td>0.0</td>\n",
       "      <td>Feb</td>\n",
       "      <td>2</td>\n",
       "      <td>2</td>\n",
       "      <td>1</td>\n",
       "      <td>2</td>\n",
       "      <td>Returning_Visitor</td>\n",
       "      <td>False</td>\n",
       "      <td>False</td>\n",
       "    </tr>\n",
       "    <tr>\n",
       "      <th>2</th>\n",
       "      <td>0</td>\n",
       "      <td>0.0</td>\n",
       "      <td>0</td>\n",
       "      <td>0.0</td>\n",
       "      <td>1</td>\n",
       "      <td>0.000000</td>\n",
       "      <td>0.20</td>\n",
       "      <td>0.20</td>\n",
       "      <td>0.0</td>\n",
       "      <td>0.0</td>\n",
       "      <td>Feb</td>\n",
       "      <td>4</td>\n",
       "      <td>1</td>\n",
       "      <td>9</td>\n",
       "      <td>3</td>\n",
       "      <td>Returning_Visitor</td>\n",
       "      <td>False</td>\n",
       "      <td>False</td>\n",
       "    </tr>\n",
       "    <tr>\n",
       "      <th>3</th>\n",
       "      <td>0</td>\n",
       "      <td>0.0</td>\n",
       "      <td>0</td>\n",
       "      <td>0.0</td>\n",
       "      <td>2</td>\n",
       "      <td>2.666667</td>\n",
       "      <td>0.05</td>\n",
       "      <td>0.14</td>\n",
       "      <td>0.0</td>\n",
       "      <td>0.0</td>\n",
       "      <td>Feb</td>\n",
       "      <td>3</td>\n",
       "      <td>2</td>\n",
       "      <td>2</td>\n",
       "      <td>4</td>\n",
       "      <td>Returning_Visitor</td>\n",
       "      <td>False</td>\n",
       "      <td>False</td>\n",
       "    </tr>\n",
       "    <tr>\n",
       "      <th>4</th>\n",
       "      <td>0</td>\n",
       "      <td>0.0</td>\n",
       "      <td>0</td>\n",
       "      <td>0.0</td>\n",
       "      <td>10</td>\n",
       "      <td>627.500000</td>\n",
       "      <td>0.02</td>\n",
       "      <td>0.05</td>\n",
       "      <td>0.0</td>\n",
       "      <td>0.0</td>\n",
       "      <td>Feb</td>\n",
       "      <td>3</td>\n",
       "      <td>3</td>\n",
       "      <td>1</td>\n",
       "      <td>4</td>\n",
       "      <td>Returning_Visitor</td>\n",
       "      <td>True</td>\n",
       "      <td>False</td>\n",
       "    </tr>\n",
       "  </tbody>\n",
       "</table>\n",
       "</div>"
      ],
      "text/plain": [
       "   Administrative  Administrative_Duration  Informational  \\\n",
       "0               0                      0.0              0   \n",
       "1               0                      0.0              0   \n",
       "2               0                      0.0              0   \n",
       "3               0                      0.0              0   \n",
       "4               0                      0.0              0   \n",
       "\n",
       "   Informational_Duration  ProductRelated  ProductRelated_Duration  \\\n",
       "0                     0.0               1                 0.000000   \n",
       "1                     0.0               2                64.000000   \n",
       "2                     0.0               1                 0.000000   \n",
       "3                     0.0               2                 2.666667   \n",
       "4                     0.0              10               627.500000   \n",
       "\n",
       "   BounceRates  ExitRates  PageValues  SpecialDay Month  OperatingSystems  \\\n",
       "0         0.20       0.20         0.0         0.0   Feb                 1   \n",
       "1         0.00       0.10         0.0         0.0   Feb                 2   \n",
       "2         0.20       0.20         0.0         0.0   Feb                 4   \n",
       "3         0.05       0.14         0.0         0.0   Feb                 3   \n",
       "4         0.02       0.05         0.0         0.0   Feb                 3   \n",
       "\n",
       "   Browser  Region  TrafficType        VisitorType  Weekend  Revenue  \n",
       "0        1       1            1  Returning_Visitor    False    False  \n",
       "1        2       1            2  Returning_Visitor    False    False  \n",
       "2        1       9            3  Returning_Visitor    False    False  \n",
       "3        2       2            4  Returning_Visitor    False    False  \n",
       "4        3       1            4  Returning_Visitor     True    False  "
      ]
     },
     "execution_count": 4,
     "metadata": {},
     "output_type": "execute_result"
    }
   ],
   "source": [
    "#sample of observations\n",
    "\n",
    "data.head()"
   ]
  },
  {
   "cell_type": "code",
   "execution_count": 5,
   "id": "60a7208c",
   "metadata": {
    "execution": {
     "iopub.execute_input": "2022-06-25T18:35:08.205035Z",
     "iopub.status.busy": "2022-06-25T18:35:08.204469Z",
     "iopub.status.idle": "2022-06-25T18:35:08.234788Z",
     "shell.execute_reply": "2022-06-25T18:35:08.233519Z"
    },
    "papermill": {
     "duration": 0.097414,
     "end_time": "2022-06-25T18:35:08.236900",
     "exception": false,
     "start_time": "2022-06-25T18:35:08.139486",
     "status": "completed"
    },
    "tags": []
   },
   "outputs": [
    {
     "name": "stdout",
     "output_type": "stream",
     "text": [
      "<class 'pandas.core.frame.DataFrame'>\n",
      "RangeIndex: 12330 entries, 0 to 12329\n",
      "Data columns (total 18 columns):\n",
      " #   Column                   Non-Null Count  Dtype  \n",
      "---  ------                   --------------  -----  \n",
      " 0   Administrative           12330 non-null  int64  \n",
      " 1   Administrative_Duration  12330 non-null  float64\n",
      " 2   Informational            12330 non-null  int64  \n",
      " 3   Informational_Duration   12330 non-null  float64\n",
      " 4   ProductRelated           12330 non-null  int64  \n",
      " 5   ProductRelated_Duration  12330 non-null  float64\n",
      " 6   BounceRates              12330 non-null  float64\n",
      " 7   ExitRates                12330 non-null  float64\n",
      " 8   PageValues               12330 non-null  float64\n",
      " 9   SpecialDay               12330 non-null  float64\n",
      " 10  Month                    12330 non-null  object \n",
      " 11  OperatingSystems         12330 non-null  int64  \n",
      " 12  Browser                  12330 non-null  int64  \n",
      " 13  Region                   12330 non-null  int64  \n",
      " 14  TrafficType              12330 non-null  int64  \n",
      " 15  VisitorType              12330 non-null  object \n",
      " 16  Weekend                  12330 non-null  bool   \n",
      " 17  Revenue                  12330 non-null  bool   \n",
      "dtypes: bool(2), float64(7), int64(7), object(2)\n",
      "memory usage: 1.5+ MB\n"
     ]
    }
   ],
   "source": [
    "#Data Structure\n",
    "data.info()"
   ]
  },
  {
   "cell_type": "code",
   "execution_count": 6,
   "id": "757838df",
   "metadata": {
    "execution": {
     "iopub.execute_input": "2022-06-25T18:35:08.371420Z",
     "iopub.status.busy": "2022-06-25T18:35:08.370760Z",
     "iopub.status.idle": "2022-06-25T18:35:08.382179Z",
     "shell.execute_reply": "2022-06-25T18:35:08.381558Z"
    },
    "papermill": {
     "duration": 0.078568,
     "end_time": "2022-06-25T18:35:08.384088",
     "exception": false,
     "start_time": "2022-06-25T18:35:08.305520",
     "status": "completed"
    },
    "tags": []
   },
   "outputs": [
    {
     "data": {
      "text/plain": [
       "Administrative             0\n",
       "Administrative_Duration    0\n",
       "Informational              0\n",
       "Informational_Duration     0\n",
       "ProductRelated             0\n",
       "ProductRelated_Duration    0\n",
       "BounceRates                0\n",
       "ExitRates                  0\n",
       "PageValues                 0\n",
       "SpecialDay                 0\n",
       "Month                      0\n",
       "OperatingSystems           0\n",
       "Browser                    0\n",
       "Region                     0\n",
       "TrafficType                0\n",
       "VisitorType                0\n",
       "Weekend                    0\n",
       "Revenue                    0\n",
       "dtype: int64"
      ]
     },
     "execution_count": 6,
     "metadata": {},
     "output_type": "execute_result"
    }
   ],
   "source": [
    "#Nulls\n",
    "\n",
    "data.isnull().sum()"
   ]
  },
  {
   "cell_type": "code",
   "execution_count": 7,
   "id": "dadc48dd",
   "metadata": {
    "execution": {
     "iopub.execute_input": "2022-06-25T18:35:08.516279Z",
     "iopub.status.busy": "2022-06-25T18:35:08.515740Z",
     "iopub.status.idle": "2022-06-25T18:35:08.528789Z",
     "shell.execute_reply": "2022-06-25T18:35:08.527806Z"
    },
    "papermill": {
     "duration": 0.081537,
     "end_time": "2022-06-25T18:35:08.531199",
     "exception": false,
     "start_time": "2022-06-25T18:35:08.449662",
     "status": "completed"
    },
    "tags": []
   },
   "outputs": [],
   "source": [
    "#We eliminate the nulls. They are a very small batch of the data and won´t affect our results.\n",
    "data=data.dropna().copy()"
   ]
  },
  {
   "cell_type": "code",
   "execution_count": 8,
   "id": "73a7b99a",
   "metadata": {
    "execution": {
     "iopub.execute_input": "2022-06-25T18:35:08.662912Z",
     "iopub.status.busy": "2022-06-25T18:35:08.662616Z",
     "iopub.status.idle": "2022-06-25T18:35:08.679135Z",
     "shell.execute_reply": "2022-06-25T18:35:08.678270Z"
    },
    "papermill": {
     "duration": 0.085446,
     "end_time": "2022-06-25T18:35:08.682180",
     "exception": false,
     "start_time": "2022-06-25T18:35:08.596734",
     "status": "completed"
    },
    "tags": []
   },
   "outputs": [
    {
     "name": "stdout",
     "output_type": "stream",
     "text": [
      "Administrative               27\n",
      "Administrative_Duration    3335\n",
      "Informational                17\n",
      "Informational_Duration     1258\n",
      "ProductRelated              311\n",
      "ProductRelated_Duration    9551\n",
      "BounceRates                1872\n",
      "ExitRates                  4777\n",
      "PageValues                 2704\n",
      "SpecialDay                    6\n",
      "Month                        10\n",
      "OperatingSystems              8\n",
      "Browser                      13\n",
      "Region                        9\n",
      "TrafficType                  20\n",
      "VisitorType                   3\n",
      "Weekend                       2\n",
      "Revenue                       2\n",
      "dtype: int64\n"
     ]
    }
   ],
   "source": [
    "#Number of unique values per columns- to help determine categorical variables \n",
    "print(data.nunique())"
   ]
  },
  {
   "cell_type": "code",
   "execution_count": 9,
   "id": "3dbd1673",
   "metadata": {
    "execution": {
     "iopub.execute_input": "2022-06-25T18:35:08.816309Z",
     "iopub.status.busy": "2022-06-25T18:35:08.816034Z",
     "iopub.status.idle": "2022-06-25T18:35:08.834321Z",
     "shell.execute_reply": "2022-06-25T18:35:08.833618Z"
    },
    "papermill": {
     "duration": 0.086862,
     "end_time": "2022-06-25T18:35:08.836561",
     "exception": false,
     "start_time": "2022-06-25T18:35:08.749699",
     "status": "completed"
    },
    "tags": []
   },
   "outputs": [],
   "source": [
    "#Let´s convert the categorical data to categorical data types.\n",
    "\n",
    "cat=data.columns[10:]\n",
    "\n",
    "data[cat]=data[cat].astype('category')"
   ]
  },
  {
   "cell_type": "code",
   "execution_count": 10,
   "id": "04654306",
   "metadata": {
    "execution": {
     "iopub.execute_input": "2022-06-25T18:35:08.973256Z",
     "iopub.status.busy": "2022-06-25T18:35:08.972789Z",
     "iopub.status.idle": "2022-06-25T18:35:09.021717Z",
     "shell.execute_reply": "2022-06-25T18:35:09.020749Z"
    },
    "papermill": {
     "duration": 0.119516,
     "end_time": "2022-06-25T18:35:09.024049",
     "exception": false,
     "start_time": "2022-06-25T18:35:08.904533",
     "status": "completed"
    },
    "tags": []
   },
   "outputs": [
    {
     "data": {
      "text/html": [
       "<div>\n",
       "<style scoped>\n",
       "    .dataframe tbody tr th:only-of-type {\n",
       "        vertical-align: middle;\n",
       "    }\n",
       "\n",
       "    .dataframe tbody tr th {\n",
       "        vertical-align: top;\n",
       "    }\n",
       "\n",
       "    .dataframe thead th {\n",
       "        text-align: right;\n",
       "    }\n",
       "</style>\n",
       "<table border=\"1\" class=\"dataframe\">\n",
       "  <thead>\n",
       "    <tr style=\"text-align: right;\">\n",
       "      <th></th>\n",
       "      <th>Administrative</th>\n",
       "      <th>Administrative_Duration</th>\n",
       "      <th>Informational</th>\n",
       "      <th>Informational_Duration</th>\n",
       "      <th>ProductRelated</th>\n",
       "      <th>ProductRelated_Duration</th>\n",
       "      <th>BounceRates</th>\n",
       "      <th>ExitRates</th>\n",
       "      <th>PageValues</th>\n",
       "      <th>SpecialDay</th>\n",
       "    </tr>\n",
       "  </thead>\n",
       "  <tbody>\n",
       "    <tr>\n",
       "      <th>count</th>\n",
       "      <td>12330.000000</td>\n",
       "      <td>12330.000000</td>\n",
       "      <td>12330.000000</td>\n",
       "      <td>12330.000000</td>\n",
       "      <td>12330.000000</td>\n",
       "      <td>12330.000000</td>\n",
       "      <td>12330.000000</td>\n",
       "      <td>12330.000000</td>\n",
       "      <td>12330.000000</td>\n",
       "      <td>12330.000000</td>\n",
       "    </tr>\n",
       "    <tr>\n",
       "      <th>mean</th>\n",
       "      <td>2.315166</td>\n",
       "      <td>80.818611</td>\n",
       "      <td>0.503569</td>\n",
       "      <td>34.472398</td>\n",
       "      <td>31.731468</td>\n",
       "      <td>1194.746220</td>\n",
       "      <td>0.022191</td>\n",
       "      <td>0.043073</td>\n",
       "      <td>5.889258</td>\n",
       "      <td>0.061427</td>\n",
       "    </tr>\n",
       "    <tr>\n",
       "      <th>std</th>\n",
       "      <td>3.321784</td>\n",
       "      <td>176.779107</td>\n",
       "      <td>1.270156</td>\n",
       "      <td>140.749294</td>\n",
       "      <td>44.475503</td>\n",
       "      <td>1913.669288</td>\n",
       "      <td>0.048488</td>\n",
       "      <td>0.048597</td>\n",
       "      <td>18.568437</td>\n",
       "      <td>0.198917</td>\n",
       "    </tr>\n",
       "    <tr>\n",
       "      <th>min</th>\n",
       "      <td>0.000000</td>\n",
       "      <td>0.000000</td>\n",
       "      <td>0.000000</td>\n",
       "      <td>0.000000</td>\n",
       "      <td>0.000000</td>\n",
       "      <td>0.000000</td>\n",
       "      <td>0.000000</td>\n",
       "      <td>0.000000</td>\n",
       "      <td>0.000000</td>\n",
       "      <td>0.000000</td>\n",
       "    </tr>\n",
       "    <tr>\n",
       "      <th>25%</th>\n",
       "      <td>0.000000</td>\n",
       "      <td>0.000000</td>\n",
       "      <td>0.000000</td>\n",
       "      <td>0.000000</td>\n",
       "      <td>7.000000</td>\n",
       "      <td>184.137500</td>\n",
       "      <td>0.000000</td>\n",
       "      <td>0.014286</td>\n",
       "      <td>0.000000</td>\n",
       "      <td>0.000000</td>\n",
       "    </tr>\n",
       "    <tr>\n",
       "      <th>50%</th>\n",
       "      <td>1.000000</td>\n",
       "      <td>7.500000</td>\n",
       "      <td>0.000000</td>\n",
       "      <td>0.000000</td>\n",
       "      <td>18.000000</td>\n",
       "      <td>598.936905</td>\n",
       "      <td>0.003112</td>\n",
       "      <td>0.025156</td>\n",
       "      <td>0.000000</td>\n",
       "      <td>0.000000</td>\n",
       "    </tr>\n",
       "    <tr>\n",
       "      <th>75%</th>\n",
       "      <td>4.000000</td>\n",
       "      <td>93.256250</td>\n",
       "      <td>0.000000</td>\n",
       "      <td>0.000000</td>\n",
       "      <td>38.000000</td>\n",
       "      <td>1464.157214</td>\n",
       "      <td>0.016813</td>\n",
       "      <td>0.050000</td>\n",
       "      <td>0.000000</td>\n",
       "      <td>0.000000</td>\n",
       "    </tr>\n",
       "    <tr>\n",
       "      <th>max</th>\n",
       "      <td>27.000000</td>\n",
       "      <td>3398.750000</td>\n",
       "      <td>24.000000</td>\n",
       "      <td>2549.375000</td>\n",
       "      <td>705.000000</td>\n",
       "      <td>63973.522230</td>\n",
       "      <td>0.200000</td>\n",
       "      <td>0.200000</td>\n",
       "      <td>361.763742</td>\n",
       "      <td>1.000000</td>\n",
       "    </tr>\n",
       "  </tbody>\n",
       "</table>\n",
       "</div>"
      ],
      "text/plain": [
       "       Administrative  Administrative_Duration  Informational  \\\n",
       "count    12330.000000             12330.000000   12330.000000   \n",
       "mean         2.315166                80.818611       0.503569   \n",
       "std          3.321784               176.779107       1.270156   \n",
       "min          0.000000                 0.000000       0.000000   \n",
       "25%          0.000000                 0.000000       0.000000   \n",
       "50%          1.000000                 7.500000       0.000000   \n",
       "75%          4.000000                93.256250       0.000000   \n",
       "max         27.000000              3398.750000      24.000000   \n",
       "\n",
       "       Informational_Duration  ProductRelated  ProductRelated_Duration  \\\n",
       "count            12330.000000    12330.000000             12330.000000   \n",
       "mean                34.472398       31.731468              1194.746220   \n",
       "std                140.749294       44.475503              1913.669288   \n",
       "min                  0.000000        0.000000                 0.000000   \n",
       "25%                  0.000000        7.000000               184.137500   \n",
       "50%                  0.000000       18.000000               598.936905   \n",
       "75%                  0.000000       38.000000              1464.157214   \n",
       "max               2549.375000      705.000000             63973.522230   \n",
       "\n",
       "        BounceRates     ExitRates    PageValues    SpecialDay  \n",
       "count  12330.000000  12330.000000  12330.000000  12330.000000  \n",
       "mean       0.022191      0.043073      5.889258      0.061427  \n",
       "std        0.048488      0.048597     18.568437      0.198917  \n",
       "min        0.000000      0.000000      0.000000      0.000000  \n",
       "25%        0.000000      0.014286      0.000000      0.000000  \n",
       "50%        0.003112      0.025156      0.000000      0.000000  \n",
       "75%        0.016813      0.050000      0.000000      0.000000  \n",
       "max        0.200000      0.200000    361.763742      1.000000  "
      ]
     },
     "execution_count": 10,
     "metadata": {},
     "output_type": "execute_result"
    }
   ],
   "source": [
    "#inicial statistical analysis -numeric variables\n",
    "\n",
    "data.describe() "
   ]
  },
  {
   "cell_type": "code",
   "execution_count": 11,
   "id": "ca54fd85",
   "metadata": {
    "execution": {
     "iopub.execute_input": "2022-06-25T18:35:09.162652Z",
     "iopub.status.busy": "2022-06-25T18:35:09.162154Z",
     "iopub.status.idle": "2022-06-25T18:35:09.190909Z",
     "shell.execute_reply": "2022-06-25T18:35:09.190079Z"
    },
    "papermill": {
     "duration": 0.09994,
     "end_time": "2022-06-25T18:35:09.193092",
     "exception": false,
     "start_time": "2022-06-25T18:35:09.093152",
     "status": "completed"
    },
    "tags": []
   },
   "outputs": [
    {
     "data": {
      "text/html": [
       "<div>\n",
       "<style scoped>\n",
       "    .dataframe tbody tr th:only-of-type {\n",
       "        vertical-align: middle;\n",
       "    }\n",
       "\n",
       "    .dataframe tbody tr th {\n",
       "        vertical-align: top;\n",
       "    }\n",
       "\n",
       "    .dataframe thead th {\n",
       "        text-align: right;\n",
       "    }\n",
       "</style>\n",
       "<table border=\"1\" class=\"dataframe\">\n",
       "  <thead>\n",
       "    <tr style=\"text-align: right;\">\n",
       "      <th></th>\n",
       "      <th>Month</th>\n",
       "      <th>OperatingSystems</th>\n",
       "      <th>Browser</th>\n",
       "      <th>Region</th>\n",
       "      <th>TrafficType</th>\n",
       "      <th>VisitorType</th>\n",
       "      <th>Weekend</th>\n",
       "      <th>Revenue</th>\n",
       "    </tr>\n",
       "  </thead>\n",
       "  <tbody>\n",
       "    <tr>\n",
       "      <th>count</th>\n",
       "      <td>12330</td>\n",
       "      <td>12330</td>\n",
       "      <td>12330</td>\n",
       "      <td>12330</td>\n",
       "      <td>12330</td>\n",
       "      <td>12330</td>\n",
       "      <td>12330</td>\n",
       "      <td>12330</td>\n",
       "    </tr>\n",
       "    <tr>\n",
       "      <th>unique</th>\n",
       "      <td>10</td>\n",
       "      <td>8</td>\n",
       "      <td>13</td>\n",
       "      <td>9</td>\n",
       "      <td>20</td>\n",
       "      <td>3</td>\n",
       "      <td>2</td>\n",
       "      <td>2</td>\n",
       "    </tr>\n",
       "    <tr>\n",
       "      <th>top</th>\n",
       "      <td>May</td>\n",
       "      <td>2</td>\n",
       "      <td>2</td>\n",
       "      <td>1</td>\n",
       "      <td>2</td>\n",
       "      <td>Returning_Visitor</td>\n",
       "      <td>False</td>\n",
       "      <td>False</td>\n",
       "    </tr>\n",
       "    <tr>\n",
       "      <th>freq</th>\n",
       "      <td>3364</td>\n",
       "      <td>6601</td>\n",
       "      <td>7961</td>\n",
       "      <td>4780</td>\n",
       "      <td>3913</td>\n",
       "      <td>10551</td>\n",
       "      <td>9462</td>\n",
       "      <td>10422</td>\n",
       "    </tr>\n",
       "  </tbody>\n",
       "</table>\n",
       "</div>"
      ],
      "text/plain": [
       "        Month  OperatingSystems  Browser  Region  TrafficType  \\\n",
       "count   12330             12330    12330   12330        12330   \n",
       "unique     10                 8       13       9           20   \n",
       "top       May                 2        2       1            2   \n",
       "freq     3364              6601     7961    4780         3913   \n",
       "\n",
       "              VisitorType Weekend Revenue  \n",
       "count               12330   12330   12330  \n",
       "unique                  3       2       2  \n",
       "top     Returning_Visitor   False   False  \n",
       "freq                10551    9462   10422  "
      ]
     },
     "execution_count": 11,
     "metadata": {},
     "output_type": "execute_result"
    }
   ],
   "source": [
    "#We can already see that the means are much closer to the minimums than to the maximums, which prepares us for the fact that the\n",
    "#distributions are not normal.\n",
    "\n",
    "#Highs are well outside the 3rd quartile on many variables - there will be outliers.\n",
    "\n",
    "#We also have negative value at least in several variables related to time - which apparently doesn't make sense.\n",
    "#We will check this with the graphs.\n",
    "\n",
    "\n",
    "#Categorical Variables\n",
    "data.describe(include='category')"
   ]
  },
  {
   "cell_type": "code",
   "execution_count": 12,
   "id": "0a049d89",
   "metadata": {
    "execution": {
     "iopub.execute_input": "2022-06-25T18:35:09.344200Z",
     "iopub.status.busy": "2022-06-25T18:35:09.343745Z",
     "iopub.status.idle": "2022-06-25T18:35:09.355781Z",
     "shell.execute_reply": "2022-06-25T18:35:09.354871Z"
    },
    "papermill": {
     "duration": 0.095794,
     "end_time": "2022-06-25T18:35:09.357974",
     "exception": false,
     "start_time": "2022-06-25T18:35:09.262180",
     "status": "completed"
    },
    "tags": []
   },
   "outputs": [
    {
     "data": {
      "text/plain": [
       "False    10422\n",
       "True      1908\n",
       "Name: Revenue, dtype: int64"
      ]
     },
     "execution_count": 12,
     "metadata": {},
     "output_type": "execute_result"
    }
   ],
   "source": [
    "#We can see that the categorical variables are unbalanced. Especially it can be said about the target variable:\n",
    "\n",
    "data.Revenue.value_counts()"
   ]
  },
  {
   "cell_type": "code",
   "execution_count": 13,
   "id": "fc5f37ec",
   "metadata": {
    "execution": {
     "iopub.execute_input": "2022-06-25T18:35:09.502344Z",
     "iopub.status.busy": "2022-06-25T18:35:09.501548Z",
     "iopub.status.idle": "2022-06-25T18:35:10.095423Z",
     "shell.execute_reply": "2022-06-25T18:35:10.094213Z"
    },
    "papermill": {
     "duration": 0.664153,
     "end_time": "2022-06-25T18:35:10.097706",
     "exception": false,
     "start_time": "2022-06-25T18:35:09.433553",
     "status": "completed"
    },
    "tags": []
   },
   "outputs": [
    {
     "data": {
      "image/png": "[encoded data removed]",
      "text/plain": [
       "<Figure size 1080x360 with 2 Axes>"
      ]
     },
     "metadata": {
      "needs_background": "light"
     },
     "output_type": "display_data"
    },
    {
     "name": "stdout",
     "output_type": "stream",
     "text": [
      "\n",
      " CHI SQUARE TEST \n",
      "\n",
      "The p_value is 2.2387855164805443e-77 and therefore we can reject the null hypothesis that there is no significant relationship between Month and Revenue\n"
     ]
    }
   ],
   "source": [
    "#We will perform univariate and bivariate analysis with the target on the categorical variables.\n",
    "\n",
    "categorical_analysis('Month', order=['Feb','Mar','May','June','Jul','Aug','Sep','Oct','Nov','Dec'], palette='tab10')"
   ]
  },
  {
   "cell_type": "markdown",
   "id": "8cbdfea4",
   "metadata": {
    "papermill": {
     "duration": 0.067676,
     "end_time": "2022-06-25T18:35:10.237661",
     "exception": false,
     "start_time": "2022-06-25T18:35:10.169985",
     "status": "completed"
    },
    "tags": []
   },
   "source": [
    "We can have# several conclusions:\n",
    "\n",
    "1.The data is not distributed in a balanced way during the months of the year. This may be a result of\n",
    "#way of building the dataset or showing real trends (although differences are not likely if there is no other factor)\n",
    "\n",
    "2. The conversion (The visits that end with purchase) is different between the months and we can see a general positive trend between\n",
    "#February to November in conversion rate. (months March, May, June have more or less the same conversion).\n",
    "\n",
    "3. We are missing data for January and April.\n",
    "\n",
    "4. The chi-square test that checks the magnitude of the relationship between the independent variable and Revenue is significant."
   ]
  },
  {
   "cell_type": "code",
   "execution_count": 14,
   "id": "02c0e8a2",
   "metadata": {
    "execution": {
     "iopub.execute_input": "2022-06-25T18:35:10.376708Z",
     "iopub.status.busy": "2022-06-25T18:35:10.376391Z",
     "iopub.status.idle": "2022-06-25T18:35:10.913264Z",
     "shell.execute_reply": "2022-06-25T18:35:10.911921Z"
    },
    "papermill": {
     "duration": 0.608909,
     "end_time": "2022-06-25T18:35:10.915571",
     "exception": false,
     "start_time": "2022-06-25T18:35:10.306662",
     "status": "completed"
    },
    "tags": []
   },
   "outputs": [
    {
     "data": {
      "image/png": "[encoded data removed]",
      "text/plain": [
       "<Figure size 1080x360 with 2 Axes>"
      ]
     },
     "metadata": {
      "needs_background": "light"
     },
     "output_type": "display_data"
    },
    {
     "name": "stdout",
     "output_type": "stream",
     "text": [
      "\n",
      " CHI SQUARE TEST \n",
      "\n",
      "The p_value is 1.4160941129614401e-13 and therefore we can reject the null hypothesis that there is no significant relationship between OperatingSystems and Revenue\n"
     ]
    }
   ],
   "source": [
    "categorical_analysis('OperatingSystems')"
   ]
  },
  {
   "cell_type": "code",
   "execution_count": 15,
   "id": "04299c37",
   "metadata": {
    "execution": {
     "iopub.execute_input": "2022-06-25T18:35:11.066823Z",
     "iopub.status.busy": "2022-06-25T18:35:11.066101Z",
     "iopub.status.idle": "2022-06-25T18:35:11.075988Z",
     "shell.execute_reply": "2022-06-25T18:35:11.075062Z"
    },
    "papermill": {
     "duration": 0.084318,
     "end_time": "2022-06-25T18:35:11.078376",
     "exception": false,
     "start_time": "2022-06-25T18:35:10.994058",
     "status": "completed"
    },
    "tags": []
   },
   "outputs": [
    {
     "data": {
      "text/plain": [
       "2    6601\n",
       "1    2585\n",
       "3    2555\n",
       "4     478\n",
       "8      79\n",
       "6      19\n",
       "7       7\n",
       "5       6\n",
       "Name: OperatingSystems, dtype: int64"
      ]
     },
     "execution_count": 15,
     "metadata": {},
     "output_type": "execute_result"
    }
   ],
   "source": [
    "#We can see that the categories of Operating systems are not balanced. Although the chi test is significant, we can have\n",
    "#problem with minority categories:\n",
    "\n",
    "data.OperatingSystems.value_counts()"
   ]
  },
  {
   "cell_type": "code",
   "execution_count": 16,
   "id": "be8c9f29",
   "metadata": {
    "execution": {
     "iopub.execute_input": "2022-06-25T18:35:11.221892Z",
     "iopub.status.busy": "2022-06-25T18:35:11.221170Z",
     "iopub.status.idle": "2022-06-25T18:35:11.249743Z",
     "shell.execute_reply": "2022-06-25T18:35:11.248923Z"
    },
    "papermill": {
     "duration": 0.10321,
     "end_time": "2022-06-25T18:35:11.252075",
     "exception": false,
     "start_time": "2022-06-25T18:35:11.148865",
     "status": "completed"
    },
    "tags": []
   },
   "outputs": [],
   "source": [
    "#Categories with few observations may not represent reality well because each observation in them gets a lot of weight.\n",
    "#We will unite categories 6-7-5 in one:\n",
    "\n",
    "data['Browser']=pd.Series(np.where(data.Browser.isin([7,12,11,9]), 'Other', data.Browser)).astype('category')"
   ]
  },
  {
   "cell_type": "code",
   "execution_count": 17,
   "id": "620255bd",
   "metadata": {
    "execution": {
     "iopub.execute_input": "2022-06-25T18:35:11.400047Z",
     "iopub.status.busy": "2022-06-25T18:35:11.398892Z",
     "iopub.status.idle": "2022-06-25T18:35:11.906676Z",
     "shell.execute_reply": "2022-06-25T18:35:11.905814Z"
    },
    "papermill": {
     "duration": 0.584013,
     "end_time": "2022-06-25T18:35:11.909166",
     "exception": false,
     "start_time": "2022-06-25T18:35:11.325153",
     "status": "completed"
    },
    "tags": []
   },
   "outputs": [
    {
     "data": {
      "image/png": "[encoded data removed]",
      "text/plain": [
       "<Figure size 1080x360 with 2 Axes>"
      ]
     },
     "metadata": {
      "needs_background": "light"
     },
     "output_type": "display_data"
    },
    {
     "name": "stdout",
     "output_type": "stream",
     "text": [
      "\n",
      " CHI SQUARE TEST \n",
      "\n",
      "The p_value is 0.3214249979076556 and therefore we have to accept the null hypothesis that there is no significant relationship between Region and Revenue\n"
     ]
    }
   ],
   "source": [
    "categorical_analysis('Region')"
   ]
  },
  {
   "cell_type": "code",
   "execution_count": 18,
   "id": "6f9c3109",
   "metadata": {
    "execution": {
     "iopub.execute_input": "2022-06-25T18:35:12.058304Z",
     "iopub.status.busy": "2022-06-25T18:35:12.058037Z",
     "iopub.status.idle": "2022-06-25T18:35:13.019029Z",
     "shell.execute_reply": "2022-06-25T18:35:13.018075Z"
    },
    "papermill": {
     "duration": 1.037339,
     "end_time": "2022-06-25T18:35:13.021946",
     "exception": false,
     "start_time": "2022-06-25T18:35:11.984607",
     "status": "completed"
    },
    "tags": []
   },
   "outputs": [
    {
     "data": {
      "image/png": "[encoded data removed]",
      "text/plain": [
       "<Figure size 1080x360 with 2 Axes>"
      ]
     },
     "metadata": {
      "needs_background": "light"
     },
     "output_type": "display_data"
    },
    {
     "name": "stdout",
     "output_type": "stream",
     "text": [
      "\n",
      " CHI SQUARE TEST \n",
      "\n",
      "The p_value is 1.652735258160153e-67 and therefore we can reject the null hypothesis that there is no significant relationship between TrafficType and Revenue\n"
     ]
    }
   ],
   "source": [
    "#There is not much difference between the categories in bivariate analysis and also the chi-square test tells us\n",
    "#(this variable is not statistically related to Revenue). The conclusion that this variable would not be a good predictor\n",
    "# of revenue.\n",
    "\n",
    "\n",
    "categorical_analysis('TrafficType')"
   ]
  },
  {
   "cell_type": "code",
   "execution_count": 19,
   "id": "f95183df",
   "metadata": {
    "execution": {
     "iopub.execute_input": "2022-06-25T18:35:13.170754Z",
     "iopub.status.busy": "2022-06-25T18:35:13.170321Z",
     "iopub.status.idle": "2022-06-25T18:35:13.177417Z",
     "shell.execute_reply": "2022-06-25T18:35:13.176769Z"
    },
    "papermill": {
     "duration": 0.083782,
     "end_time": "2022-06-25T18:35:13.179222",
     "exception": false,
     "start_time": "2022-06-25T18:35:13.095440",
     "status": "completed"
    },
    "tags": []
   },
   "outputs": [
    {
     "data": {
      "text/plain": [
       "2     3913\n",
       "1     2451\n",
       "3     2052\n",
       "4     1069\n",
       "13     738\n",
       "10     450\n",
       "6      444\n",
       "8      343\n",
       "5      260\n",
       "11     247\n",
       "20     198\n",
       "9       42\n",
       "7       40\n",
       "15      38\n",
       "19      17\n",
       "14      13\n",
       "18      10\n",
       "16       3\n",
       "12       1\n",
       "17       1\n",
       "Name: TrafficType, dtype: int64"
      ]
     },
     "execution_count": 19,
     "metadata": {},
     "output_type": "execute_result"
    }
   ],
   "source": [
    "#In general, the variable seems to be a good predictor but we still have to deal with minority categories that do not\n",
    "#present statistically representative information.\n",
    "\n",
    "data.TrafficType.value_counts()"
   ]
  },
  {
   "cell_type": "code",
   "execution_count": 20,
   "id": "1f33e49d",
   "metadata": {
    "execution": {
     "iopub.execute_input": "2022-06-25T18:35:13.327825Z",
     "iopub.status.busy": "2022-06-25T18:35:13.327413Z",
     "iopub.status.idle": "2022-06-25T18:35:13.348184Z",
     "shell.execute_reply": "2022-06-25T18:35:13.347231Z"
    },
    "papermill": {
     "duration": 0.097358,
     "end_time": "2022-06-25T18:35:13.350361",
     "exception": false,
     "start_time": "2022-06-25T18:35:13.253003",
     "status": "completed"
    },
    "tags": []
   },
   "outputs": [],
   "source": [
    "#Let's convert the categories of less than 50 observations to one.\n",
    "\n",
    "index=data.TrafficType.value_counts()[data.TrafficType.value_counts()<50].index\n",
    "\n",
    "data.loc[:,'TrafficType']=pd.Series(np.where(data.TrafficType.isin(index), 'Other', data.TrafficType)).astype('category')"
   ]
  },
  {
   "cell_type": "code",
   "execution_count": 21,
   "id": "dcd0bd9e",
   "metadata": {
    "execution": {
     "iopub.execute_input": "2022-06-25T18:35:13.497872Z",
     "iopub.status.busy": "2022-06-25T18:35:13.497580Z",
     "iopub.status.idle": "2022-06-25T18:35:13.854501Z",
     "shell.execute_reply": "2022-06-25T18:35:13.853181Z"
    },
    "papermill": {
     "duration": 0.433594,
     "end_time": "2022-06-25T18:35:13.857111",
     "exception": false,
     "start_time": "2022-06-25T18:35:13.423517",
     "status": "completed"
    },
    "tags": []
   },
   "outputs": [
    {
     "data": {
      "image/png": "[encoded data removed]",
      "text/plain": [
       "<Figure size 1080x360 with 2 Axes>"
      ]
     },
     "metadata": {
      "needs_background": "light"
     },
     "output_type": "display_data"
    },
    {
     "name": "stdout",
     "output_type": "stream",
     "text": [
      "\n",
      " CHI SQUARE TEST \n",
      "\n",
      "The p_value is 4.269904152293867e-30 and therefore we can reject the null hypothesis that there is no significant relationship between VisitorType and Revenue\n"
     ]
    },
    {
     "data": {
      "text/plain": [
       "Returning_Visitor    10551\n",
       "New_Visitor           1694\n",
       "Other                   85\n",
       "Name: VisitorType, dtype: int64"
      ]
     },
     "execution_count": 21,
     "metadata": {},
     "output_type": "execute_result"
    }
   ],
   "source": [
    "categorical_analysis('VisitorType')\n",
    "\n",
    "data.VisitorType.value_counts() "
   ]
  },
  {
   "cell_type": "code",
   "execution_count": 22,
   "id": "1a80ad71",
   "metadata": {
    "execution": {
     "iopub.execute_input": "2022-06-25T18:35:14.009355Z",
     "iopub.status.busy": "2022-06-25T18:35:14.009081Z",
     "iopub.status.idle": "2022-06-25T18:35:14.299948Z",
     "shell.execute_reply": "2022-06-25T18:35:14.298990Z"
    },
    "papermill": {
     "duration": 0.369081,
     "end_time": "2022-06-25T18:35:14.301905",
     "exception": false,
     "start_time": "2022-06-25T18:35:13.932824",
     "status": "completed"
    },
    "tags": []
   },
   "outputs": [
    {
     "data": {
      "image/png": "[encoded data removed]",
      "text/plain": [
       "<Figure size 1080x360 with 2 Axes>"
      ]
     },
     "metadata": {
      "needs_background": "light"
     },
     "output_type": "display_data"
    },
    {
     "name": "stdout",
     "output_type": "stream",
     "text": [
      "\n",
      " CHI SQUARE TEST \n",
      "\n",
      "The p_value is 0.0012663251061221968 and therefore we can reject the null hypothesis that there is no significant relationship between Weekend and Revenue\n"
     ]
    },
    {
     "data": {
      "text/plain": [
       "False    9462\n",
       "True     2868\n",
       "Name: Weekend, dtype: int64"
      ]
     },
     "execution_count": 22,
     "metadata": {},
     "output_type": "execute_result"
    }
   ],
   "source": [
    "#Unbalanced variable but there seems to be a difference in conversion between categories. We'll leave 'Other' intact.\n",
    "\n",
    "categorical_analysis('Weekend')\n",
    "\n",
    "data.Weekend.value_counts() "
   ]
  },
  {
   "cell_type": "code",
   "execution_count": 23,
   "id": "9d4758ec",
   "metadata": {
    "execution": {
     "iopub.execute_input": "2022-06-25T18:35:14.459178Z",
     "iopub.status.busy": "2022-06-25T18:35:14.458336Z",
     "iopub.status.idle": "2022-06-25T18:35:14.961513Z",
     "shell.execute_reply": "2022-06-25T18:35:14.960901Z"
    },
    "papermill": {
     "duration": 0.583604,
     "end_time": "2022-06-25T18:35:14.963694",
     "exception": false,
     "start_time": "2022-06-25T18:35:14.380090",
     "status": "completed"
    },
    "tags": []
   },
   "outputs": [
    {
     "data": {
      "image/png": "[encoded data removed]",
      "text/plain": [
       "<Figure size 1080x360 with 2 Axes>"
      ]
     },
     "metadata": {
      "needs_background": "light"
     },
     "output_type": "display_data"
    },
    {
     "name": "stdout",
     "output_type": "stream",
     "text": [
      "\n",
      " The maximum value is 27 \n",
      " The minimum value is 0 \n"
     ]
    }
   ],
   "source": [
    "#La categoria de 'No weekend' es mas grande, lo que puede ser atribuido al hecho que cinco de los 7 días de la semana no son\n",
    "#weekend. Sí existe diferencia pequeña en la tasa de conversión y el chi-test la detecta como significativa. Conclusión: \n",
    "#Hay relación entre las variables.\n",
    "\n",
    "\n",
    "#Let´s start with numeric variables:\n",
    "\n",
    "continuous_analysis('Administrative')"
   ]
  },
  {
   "cell_type": "code",
   "execution_count": 24,
   "id": "e28aac10",
   "metadata": {
    "execution": {
     "iopub.execute_input": "2022-06-25T18:35:15.126088Z",
     "iopub.status.busy": "2022-06-25T18:35:15.125447Z",
     "iopub.status.idle": "2022-06-25T18:35:15.612899Z",
     "shell.execute_reply": "2022-06-25T18:35:15.611980Z"
    },
    "papermill": {
     "duration": 0.570998,
     "end_time": "2022-06-25T18:35:15.615200",
     "exception": false,
     "start_time": "2022-06-25T18:35:15.044202",
     "status": "completed"
    },
    "tags": []
   },
   "outputs": [
    {
     "data": {
      "image/png": "[encoded data removed]",
      "text/plain": [
       "<Figure size 1080x360 with 2 Axes>"
      ]
     },
     "metadata": {
      "needs_background": "light"
     },
     "output_type": "display_data"
    },
    {
     "name": "stdout",
     "output_type": "stream",
     "text": [
      "\n",
      " The maximum value is 3398.75 \n",
      " The minimum value is 0.0 \n"
     ]
    }
   ],
   "source": [
    "#The distribution is not normal. Over half of the sessions had no administrative page views. The sessions finished\n",
    "#in conversion (Revenue True) have considerably more visits to administrative pages.\n",
    "\n",
    "continuous_analysis('Administrative_Duration')"
   ]
  },
  {
   "cell_type": "code",
   "execution_count": 25,
   "id": "5b047b0a",
   "metadata": {
    "execution": {
     "iopub.execute_input": "2022-06-25T18:35:15.779585Z",
     "iopub.status.busy": "2022-06-25T18:35:15.779244Z",
     "iopub.status.idle": "2022-06-25T18:35:15.797017Z",
     "shell.execute_reply": "2022-06-25T18:35:15.795659Z"
    },
    "papermill": {
     "duration": 0.10268,
     "end_time": "2022-06-25T18:35:15.799105",
     "exception": false,
     "start_time": "2022-06-25T18:35:15.696425",
     "status": "completed"
    },
    "tags": []
   },
   "outputs": [
    {
     "name": "stdout",
     "output_type": "stream",
     "text": [
      "Number of observations with negative duration: 0\n"
     ]
    },
    {
     "data": {
      "text/html": [
       "<div>\n",
       "<style scoped>\n",
       "    .dataframe tbody tr th:only-of-type {\n",
       "        vertical-align: middle;\n",
       "    }\n",
       "\n",
       "    .dataframe tbody tr th {\n",
       "        vertical-align: top;\n",
       "    }\n",
       "\n",
       "    .dataframe thead th {\n",
       "        text-align: right;\n",
       "    }\n",
       "</style>\n",
       "<table border=\"1\" class=\"dataframe\">\n",
       "  <thead>\n",
       "    <tr style=\"text-align: right;\">\n",
       "      <th></th>\n",
       "      <th>Administrative</th>\n",
       "      <th>Administrative_Duration</th>\n",
       "      <th>Informational</th>\n",
       "      <th>Informational_Duration</th>\n",
       "      <th>ProductRelated</th>\n",
       "      <th>ProductRelated_Duration</th>\n",
       "      <th>BounceRates</th>\n",
       "      <th>ExitRates</th>\n",
       "      <th>PageValues</th>\n",
       "      <th>SpecialDay</th>\n",
       "      <th>Month</th>\n",
       "      <th>OperatingSystems</th>\n",
       "      <th>Browser</th>\n",
       "      <th>Region</th>\n",
       "      <th>TrafficType</th>\n",
       "      <th>VisitorType</th>\n",
       "      <th>Weekend</th>\n",
       "      <th>Revenue</th>\n",
       "    </tr>\n",
       "  </thead>\n",
       "  <tbody>\n",
       "  </tbody>\n",
       "</table>\n",
       "</div>"
      ],
      "text/plain": [
       "Empty DataFrame\n",
       "Columns: [Administrative, Administrative_Duration, Informational, Informational_Duration, ProductRelated, ProductRelated_Duration, BounceRates, ExitRates, PageValues, SpecialDay, Month, OperatingSystems, Browser, Region, TrafficType, VisitorType, Weekend, Revenue]\n",
       "Index: []"
      ]
     },
     "execution_count": 25,
     "metadata": {},
     "output_type": "execute_result"
    }
   ],
   "source": [
    "#We have negative values ​​in duration which is not correct - duration cannot be negative. Let's see how many cases we have.\n",
    "\n",
    "print(f'Number of observations with negative duration: {len(data[data.Administrative_Duration<0])}')\n",
    "\n",
    "data[data.Administrative_Duration<0].head()\n",
    "\n",
    "#We have 33 observations with negative values. The most probable that the observations that have value 0 in variable\n",
    "#'Administrative' must have 0 in the duration and so we are going to impute. But we see that in other duration fields\n",
    "#There are also negative values. Since there are only 33 observations, they constitute 0.003 of the dataset. We have enough data without\n",
    "#these observations and we will delete them.\n",
    "\n",
    "#The duration of the sessions can reach values of more than 3000 that at first glance may seem wrong but if\n",
    "#we investigate more we understand that it is about seconds in Google analytics and that it can prove reality (for example when\n",
    "#the session is inactive Google analytics keeps counting the time - by default up to half an hour of inactivity but it can be adjusted.)"
   ]
  },
  {
   "cell_type": "code",
   "execution_count": 26,
   "id": "aab3e447",
   "metadata": {
    "execution": {
     "iopub.execute_input": "2022-06-25T18:35:15.966571Z",
     "iopub.status.busy": "2022-06-25T18:35:15.966267Z",
     "iopub.status.idle": "2022-06-25T18:35:15.974826Z",
     "shell.execute_reply": "2022-06-25T18:35:15.974093Z"
    },
    "papermill": {
     "duration": 0.094778,
     "end_time": "2022-06-25T18:35:15.976800",
     "exception": false,
     "start_time": "2022-06-25T18:35:15.882022",
     "status": "completed"
    },
    "tags": []
   },
   "outputs": [],
   "source": [
    "data=data.drop(data[(data.Administrative_Duration<0)&(data.Informational_Duration<0)&(data.ProductRelated_Duration<0)].index).reset_index(drop=True)"
   ]
  },
  {
   "cell_type": "code",
   "execution_count": 27,
   "id": "25d8ac6a",
   "metadata": {
    "execution": {
     "iopub.execute_input": "2022-06-25T18:35:16.145610Z",
     "iopub.status.busy": "2022-06-25T18:35:16.145099Z",
     "iopub.status.idle": "2022-06-25T18:35:16.627099Z",
     "shell.execute_reply": "2022-06-25T18:35:16.626158Z"
    },
    "papermill": {
     "duration": 0.568589,
     "end_time": "2022-06-25T18:35:16.629171",
     "exception": false,
     "start_time": "2022-06-25T18:35:16.060582",
     "status": "completed"
    },
    "tags": []
   },
   "outputs": [
    {
     "data": {
      "image/png": "[encoded data removed]",
      "text/plain": [
       "<Figure size 1080x360 with 2 Axes>"
      ]
     },
     "metadata": {
      "needs_background": "light"
     },
     "output_type": "display_data"
    },
    {
     "name": "stdout",
     "output_type": "stream",
     "text": [
      "\n",
      " The maximum value is 24 \n",
      " The minimum value is 0 \n"
     ]
    }
   ],
   "source": [
    "continuous_analysis('Informational')"
   ]
  },
  {
   "cell_type": "code",
   "execution_count": 28,
   "id": "a7e1563f",
   "metadata": {
    "execution": {
     "iopub.execute_input": "2022-06-25T18:35:16.798029Z",
     "iopub.status.busy": "2022-06-25T18:35:16.797274Z",
     "iopub.status.idle": "2022-06-25T18:35:17.288546Z",
     "shell.execute_reply": "2022-06-25T18:35:17.287439Z"
    },
    "papermill": {
     "duration": 0.577915,
     "end_time": "2022-06-25T18:35:17.290814",
     "exception": false,
     "start_time": "2022-06-25T18:35:16.712899",
     "status": "completed"
    },
    "tags": []
   },
   "outputs": [
    {
     "data": {
      "image/png": "[encoded data removed]",
      "text/plain": [
       "<Figure size 1080x360 with 2 Axes>"
      ]
     },
     "metadata": {
      "needs_background": "light"
     },
     "output_type": "display_data"
    },
    {
     "name": "stdout",
     "output_type": "stream",
     "text": [
      "\n",
      " The maximum value is 2549.375 \n",
      " The minimum value is 0.0 \n"
     ]
    }
   ],
   "source": [
    "#sessions with conversions have more informative pages if we consider the interquartile range (according to the x boxplots).\n",
    "\n",
    "continuous_analysis('Informational_Duration', data=data)"
   ]
  },
  {
   "cell_type": "code",
   "execution_count": 29,
   "id": "e0fcd6f1",
   "metadata": {
    "execution": {
     "iopub.execute_input": "2022-06-25T18:35:17.464993Z",
     "iopub.status.busy": "2022-06-25T18:35:17.464476Z",
     "iopub.status.idle": "2022-06-25T18:35:17.961128Z",
     "shell.execute_reply": "2022-06-25T18:35:17.960473Z"
    },
    "papermill": {
     "duration": 0.58551,
     "end_time": "2022-06-25T18:35:17.963283",
     "exception": false,
     "start_time": "2022-06-25T18:35:17.377773",
     "status": "completed"
    },
    "tags": []
   },
   "outputs": [
    {
     "data": {
      "image/png": "[encoded data removed]",
      "text/plain": [
       "<Figure size 1080x360 with 2 Axes>"
      ]
     },
     "metadata": {
      "needs_background": "light"
     },
     "output_type": "display_data"
    },
    {
     "name": "stdout",
     "output_type": "stream",
     "text": [
      "\n",
      " The maximum value is 705 \n",
      " The minimum value is 0 \n"
     ]
    }
   ],
   "source": [
    "#We can see the same problem - very high outliers. As before, it can be explained by idle sessions.\n",
    "#It also seems that this variable and the previous one are highly correlated. We will see later if there is multicollinearity.\n",
    "\n",
    "continuous_analysis('ProductRelated') "
   ]
  },
  {
   "cell_type": "code",
   "execution_count": 30,
   "id": "e234e5c9",
   "metadata": {
    "execution": {
     "iopub.execute_input": "2022-06-25T18:35:18.140190Z",
     "iopub.status.busy": "2022-06-25T18:35:18.139627Z",
     "iopub.status.idle": "2022-06-25T18:35:18.626400Z",
     "shell.execute_reply": "2022-06-25T18:35:18.625640Z"
    },
    "papermill": {
     "duration": 0.5779,
     "end_time": "2022-06-25T18:35:18.629116",
     "exception": false,
     "start_time": "2022-06-25T18:35:18.051216",
     "status": "completed"
    },
    "tags": []
   },
   "outputs": [
    {
     "data": {
      "image/png": "[encoded data removed]",
      "text/plain": [
       "<Figure size 1080x360 with 2 Axes>"
      ]
     },
     "metadata": {
      "needs_background": "light"
     },
     "output_type": "display_data"
    },
    {
     "name": "stdout",
     "output_type": "stream",
     "text": [
      "\n",
      " The maximum value is 63973.52223 \n",
      " The minimum value is 0.0 \n"
     ]
    }
   ],
   "source": [
    "#Interesting situation in 'extreme' sessions, with many page views. It seems that sessions without conversion have medians\n",
    "#highest number of page views. Searched for a product and have not found it?\n",
    "#This trend is inverse to what happens below 200 page views.\n",
    "\n",
    "continuous_analysis('ProductRelated_Duration')"
   ]
  },
  {
   "cell_type": "code",
   "execution_count": 31,
   "id": "0c34b864",
   "metadata": {
    "execution": {
     "iopub.execute_input": "2022-06-25T18:35:18.808182Z",
     "iopub.status.busy": "2022-06-25T18:35:18.807896Z",
     "iopub.status.idle": "2022-06-25T18:35:19.368475Z",
     "shell.execute_reply": "2022-06-25T18:35:19.367815Z"
    },
    "papermill": {
     "duration": 0.65264,
     "end_time": "2022-06-25T18:35:19.370767",
     "exception": false,
     "start_time": "2022-06-25T18:35:18.718127",
     "status": "completed"
    },
    "tags": []
   },
   "outputs": [
    {
     "data": {
      "image/png": "[encoded data removed]",
      "text/plain": [
       "<Figure size 1080x360 with 2 Axes>"
      ]
     },
     "metadata": {
      "needs_background": "light"
     },
     "output_type": "display_data"
    },
    {
     "name": "stdout",
     "output_type": "stream",
     "text": [
      "\n",
      " The maximum value is 0.2 \n",
      " The minimum value is 0.0 \n"
     ]
    }
   ],
   "source": [
    "#We see very high values. But without knowing the subject well (knowing the domain and conditions configured in analytics by the company\n",
    "#wouldn't delete these extreme cases of outliers. It may be that they are real situations - sessions not closed for a long time.\n",
    "#We have to be very safe to delete or transform oultliers.)\n",
    "\n",
    "continuous_analysis('BounceRates')"
   ]
  },
  {
   "cell_type": "code",
   "execution_count": 32,
   "id": "d1fea475",
   "metadata": {
    "execution": {
     "iopub.execute_input": "2022-06-25T18:35:19.555833Z",
     "iopub.status.busy": "2022-06-25T18:35:19.555130Z",
     "iopub.status.idle": "2022-06-25T18:35:20.147208Z",
     "shell.execute_reply": "2022-06-25T18:35:20.145740Z"
    },
    "papermill": {
     "duration": 0.687319,
     "end_time": "2022-06-25T18:35:20.149321",
     "exception": false,
     "start_time": "2022-06-25T18:35:19.462002",
     "status": "completed"
    },
    "tags": []
   },
   "outputs": [
    {
     "data": {
      "image/png": "[encoded data removed]",
      "text/plain": [
       "<Figure size 1080x360 with 2 Axes>"
      ]
     },
     "metadata": {
      "needs_background": "light"
     },
     "output_type": "display_data"
    },
    {
     "name": "stdout",
     "output_type": "stream",
     "text": [
      "\n",
      " The maximum value is 0.2 \n",
      " The minimum value is 0.0 \n"
     ]
    }
   ],
   "source": [
    "#It makes sense that there will be more conversions where the landing page has a lower bounce rate. This is what we see in the boxplots.\n",
    "\n",
    "\n",
    "continuous_analysis('ExitRates')"
   ]
  },
  {
   "cell_type": "code",
   "execution_count": 33,
   "id": "08a694d9",
   "metadata": {
    "execution": {
     "iopub.execute_input": "2022-06-25T18:35:20.345010Z",
     "iopub.status.busy": "2022-06-25T18:35:20.343496Z",
     "iopub.status.idle": "2022-06-25T18:35:21.157568Z",
     "shell.execute_reply": "2022-06-25T18:35:21.156683Z"
    },
    "papermill": {
     "duration": 0.916081,
     "end_time": "2022-06-25T18:35:21.160060",
     "exception": false,
     "start_time": "2022-06-25T18:35:20.243979",
     "status": "completed"
    },
    "tags": []
   },
   "outputs": [
    {
     "data": {
      "image/png": "[encoded data removed]",
      "text/plain": [
       "<Figure size 1080x360 with 2 Axes>"
      ]
     },
     "metadata": {
      "needs_background": "light"
     },
     "output_type": "display_data"
    },
    {
     "name": "stdout",
     "output_type": "stream",
     "text": [
      "\n",
      " The maximum value is 361.7637419 \n",
      " The minimum value is 0.0 \n"
     ]
    }
   ],
   "source": [
    "#If I understand correctly, the 'Exit Rate' metric in this case speaks of the average 'ExitRates' of the pages visited during the\n",
    "#session. If so, it also makes sense for less interesting/popular/higher Exit Rate pages to convert less.\n",
    "#In other words, people who visit pages with high Exit Rates are less likely to make purchases.\n",
    "\n",
    "continuous_analysis('PageValues')"
   ]
  },
  {
   "cell_type": "code",
   "execution_count": 34,
   "id": "96169afb",
   "metadata": {
    "execution": {
     "iopub.execute_input": "2022-06-25T18:35:21.348261Z",
     "iopub.status.busy": "2022-06-25T18:35:21.347321Z",
     "iopub.status.idle": "2022-06-25T18:35:21.895733Z",
     "shell.execute_reply": "2022-06-25T18:35:21.894651Z"
    },
    "papermill": {
     "duration": 0.645023,
     "end_time": "2022-06-25T18:35:21.898154",
     "exception": false,
     "start_time": "2022-06-25T18:35:21.253131",
     "status": "completed"
    },
    "tags": []
   },
   "outputs": [
    {
     "data": {
      "image/png": "[encoded data removed]",
      "text/plain": [
       "<Figure size 1080x360 with 2 Axes>"
      ]
     },
     "metadata": {
      "needs_background": "light"
     },
     "output_type": "display_data"
    },
    {
     "name": "stdout",
     "output_type": "stream",
     "text": [
      "\n",
      " The maximum value is 1.0 \n",
      " The minimum value is 0.0 \n"
     ]
    }
   ],
   "source": [
    "#The highest values ​​have to be related to checkout pages. These pages tend to have high values ​​because all conversions\n",
    "#go through them page. This is why we see more conversion in sessions with high PageValues. How we explain outliers without conversion\n",
    "#high values ​​of PageValues? They are probably those who reached checkout pages but ended up\n",
    "#the process and they did not finish it. Most likely the 'PageValue' variable here refers to the sum of the 'PageValues' of the visited pages.\n",
    "#If so, the inclusion of checkout pages does not have much value in predicting future conversion.\n",
    "#But we don't know for sure how they counted the PageValue metric for the whole session and we will consider this variable\n",
    "#for final analysis.\n",
    "\n",
    "continuous_analysis('SpecialDay')"
   ]
  },
  {
   "cell_type": "code",
   "execution_count": 35,
   "id": "94f4511d",
   "metadata": {
    "execution": {
     "iopub.execute_input": "2022-06-25T18:35:22.089822Z",
     "iopub.status.busy": "2022-06-25T18:35:22.089522Z",
     "iopub.status.idle": "2022-06-25T18:35:22.418024Z",
     "shell.execute_reply": "2022-06-25T18:35:22.416950Z"
    },
    "papermill": {
     "duration": 0.426806,
     "end_time": "2022-06-25T18:35:22.420323",
     "exception": false,
     "start_time": "2022-06-25T18:35:21.993517",
     "status": "completed"
    },
    "tags": []
   },
   "outputs": [
    {
     "data": {
      "image/png": "[encoded data removed]",
      "text/plain": [
       "<Figure size 1080x360 with 2 Axes>"
      ]
     },
     "metadata": {
      "needs_background": "light"
     },
     "output_type": "display_data"
    },
    {
     "name": "stdout",
     "output_type": "stream",
     "text": [
      "\n",
      " CHI SQUARE TEST \n",
      "\n",
      "The p_value is 1.0317417596405984e-21 and therefore we can reject the null hypothesis that there is no significant relationship between SpecialDay and Revenue\n"
     ]
    }
   ],
   "source": [
    "#This variable seems to be a good candidate to categoricals. It has only 6 different values (We have checked it at the beginning).\n",
    "#Let's split it into two categories: 'yes' for 'Special day' days and 'no' for the others(0.2-> 1)\n",
    "\n",
    "data['SpecialDay']=pd.cut(data['SpecialDay'], bins=[-1,0.1,1.1], labels=['Yes','No'])\n",
    "\n",
    "categorical_analysis('SpecialDay')"
   ]
  },
  {
   "cell_type": "code",
   "execution_count": 36,
   "id": "59d5e5a0",
   "metadata": {
    "execution": {
     "iopub.execute_input": "2022-06-25T18:35:22.615047Z",
     "iopub.status.busy": "2022-06-25T18:35:22.614458Z",
     "iopub.status.idle": "2022-06-25T18:35:23.004555Z",
     "shell.execute_reply": "2022-06-25T18:35:23.003910Z"
    },
    "papermill": {
     "duration": 0.489747,
     "end_time": "2022-06-25T18:35:23.006529",
     "exception": false,
     "start_time": "2022-06-25T18:35:22.516782",
     "status": "completed"
    },
    "tags": []
   },
   "outputs": [
    {
     "data": {
      "image/png": "[encoded data removed]",
      "text/plain": [
       "<Figure size 504x504 with 1 Axes>"
      ]
     },
     "metadata": {
      "needs_background": "light"
     },
     "output_type": "display_data"
    }
   ],
   "source": [
    "#Conclusions -we have much more observations of special days. Special days usually have higher conversion and it is\n",
    "#statistically significant.\n",
    "\n",
    "#Let´s examine now the correlation between the numerical variables:\n",
    "\n",
    "mask = np.triu(np.ones_like(data.corr()))\n",
    "plt.figure(figsize=(7,7))\n",
    "sns.heatmap(data.corr(), annot=True, mask=mask, cmap='Blues', xticklabels=data.select_dtypes(exclude='category').columns[:-1]\\\n",
    "           ,yticklabels='auto', linewidths=.1, cbar=False)\n",
    "np.fill_diagonal(mask, True)\n",
    "plt.title('CORRELATION MATRIX')\n",
    "plt.show()"
   ]
  },
  {
   "cell_type": "code",
   "execution_count": 37,
   "id": "adef5820",
   "metadata": {
    "execution": {
     "iopub.execute_input": "2022-06-25T18:35:23.205952Z",
     "iopub.status.busy": "2022-06-25T18:35:23.204618Z",
     "iopub.status.idle": "2022-06-25T18:35:23.321586Z",
     "shell.execute_reply": "2022-06-25T18:35:23.320647Z"
    },
    "papermill": {
     "duration": 0.220141,
     "end_time": "2022-06-25T18:35:23.324616",
     "exception": false,
     "start_time": "2022-06-25T18:35:23.104475",
     "status": "completed"
    },
    "tags": []
   },
   "outputs": [
    {
     "data": {
      "text/html": [
       "<div>\n",
       "<style scoped>\n",
       "    .dataframe tbody tr th:only-of-type {\n",
       "        vertical-align: middle;\n",
       "    }\n",
       "\n",
       "    .dataframe tbody tr th {\n",
       "        vertical-align: top;\n",
       "    }\n",
       "\n",
       "    .dataframe thead th {\n",
       "        text-align: right;\n",
       "    }\n",
       "</style>\n",
       "<table border=\"1\" class=\"dataframe\">\n",
       "  <thead>\n",
       "    <tr style=\"text-align: right;\">\n",
       "      <th></th>\n",
       "      <th>variables</th>\n",
       "      <th>values</th>\n",
       "    </tr>\n",
       "  </thead>\n",
       "  <tbody>\n",
       "    <tr>\n",
       "      <th>0</th>\n",
       "      <td>Administrative</td>\n",
       "      <td>2.650789</td>\n",
       "    </tr>\n",
       "    <tr>\n",
       "      <th>1</th>\n",
       "      <td>Administrative_Duration</td>\n",
       "      <td>2.041793</td>\n",
       "    </tr>\n",
       "    <tr>\n",
       "      <th>2</th>\n",
       "      <td>Informational</td>\n",
       "      <td>2.113500</td>\n",
       "    </tr>\n",
       "    <tr>\n",
       "      <th>3</th>\n",
       "      <td>Informational_Duration</td>\n",
       "      <td>1.777152</td>\n",
       "    </tr>\n",
       "    <tr>\n",
       "      <th>4</th>\n",
       "      <td>ProductRelated</td>\n",
       "      <td>6.309248</td>\n",
       "    </tr>\n",
       "    <tr>\n",
       "      <th>5</th>\n",
       "      <td>ProductRelated_Duration</td>\n",
       "      <td>6.007085</td>\n",
       "    </tr>\n",
       "    <tr>\n",
       "      <th>6</th>\n",
       "      <td>BounceRates</td>\n",
       "      <td>5.483943</td>\n",
       "    </tr>\n",
       "    <tr>\n",
       "      <th>7</th>\n",
       "      <td>ExitRates</td>\n",
       "      <td>5.715925</td>\n",
       "    </tr>\n",
       "    <tr>\n",
       "      <th>8</th>\n",
       "      <td>PageValues</td>\n",
       "      <td>1.077639</td>\n",
       "    </tr>\n",
       "  </tbody>\n",
       "</table>\n",
       "</div>"
      ],
      "text/plain": [
       "                 variables    values\n",
       "0           Administrative  2.650789\n",
       "1  Administrative_Duration  2.041793\n",
       "2            Informational  2.113500\n",
       "3   Informational_Duration  1.777152\n",
       "4           ProductRelated  6.309248\n",
       "5  ProductRelated_Duration  6.007085\n",
       "6              BounceRates  5.483943\n",
       "7                ExitRates  5.715925\n",
       "8               PageValues  1.077639"
      ]
     },
     "execution_count": 37,
     "metadata": {},
     "output_type": "execute_result"
    }
   ],
   "source": [
    "#We have high correlation in case of 4 variables. We will check multicollinearity.\n",
    "\n",
    "numeric=data.select_dtypes(exclude='category')\n",
    "\n",
    "VIF=pd.DataFrame()\n",
    "VIF['variables']=numeric.columns\n",
    "VIF['values']=[variance_inflation_factor(numeric.values, column) for column in range(len(numeric.columns))]\n",
    "VIF"
   ]
  },
  {
   "cell_type": "code",
   "execution_count": 38,
   "id": "71eb4bb0",
   "metadata": {
    "execution": {
     "iopub.execute_input": "2022-06-25T18:35:23.573637Z",
     "iopub.status.busy": "2022-06-25T18:35:23.573017Z",
     "iopub.status.idle": "2022-06-25T18:35:23.749203Z",
     "shell.execute_reply": "2022-06-25T18:35:23.748282Z"
    },
    "papermill": {
     "duration": 0.278598,
     "end_time": "2022-06-25T18:35:23.751913",
     "exception": false,
     "start_time": "2022-06-25T18:35:23.473315",
     "status": "completed"
    },
    "tags": []
   },
   "outputs": [
    {
     "data": {
      "image/png": "[encoded data removed]",
      "text/plain": [
       "<Figure size 432x288 with 1 Axes>"
      ]
     },
     "metadata": {
      "needs_background": "light"
     },
     "output_type": "display_data"
    }
   ],
   "source": [
    "#Clearly we have a problem with variables with a VIF value higher than 5. But also other variables that measure the same concept\n",
    "#slightly differently have high correlation - 'administrative duration'/'administrative', 'Informational duration/informational'\n",
    "\n",
    "#Maybe we can reduce the number of variables by principal component analysis. Preventing multicollinearity is good\n",
    "#practice although it is not necessary for predictions (yes for interpretation). In addition we want models that are simpler, with less\n",
    "#dimensions.\n",
    "\n",
    "\n",
    "#First we scale the data to prepare it for PCA:\n",
    "\n",
    "scaler=StandardScaler()\n",
    "norm=pd.DataFrame()\n",
    "norm[['ProductRelated','ProductRelated_Duration','BounceRates','ExitRates']]\\\n",
    "=scaler.fit_transform(data[['ProductRelated','ProductRelated_Duration','BounceRates','ExitRates']])\n",
    "\n",
    "pca=PCA()\n",
    "pca.fit(norm[['ProductRelated','ProductRelated_Duration',]])\n",
    "\n",
    "\n",
    "#Representation of the accumulated explained variance.\n",
    "\n",
    "plt.plot(range(1,3), pca.explained_variance_ratio_, c='orange')\n",
    "plt.bar(range(1,3), np.cumsum(pca.explained_variance_ratio_))\n",
    "plt.xlabel(f'number of principal components')\n",
    "plt.ylabel(f'proportion of explained variance')\n",
    "plt.ylim(0,1)\n",
    "plt.axhline(0.9, c='black')\n",
    "plt.show()"
   ]
  },
  {
   "cell_type": "code",
   "execution_count": 39,
   "id": "07c50571",
   "metadata": {
    "execution": {
     "iopub.execute_input": "2022-06-25T18:35:23.957638Z",
     "iopub.status.busy": "2022-06-25T18:35:23.956744Z",
     "iopub.status.idle": "2022-06-25T18:35:23.996250Z",
     "shell.execute_reply": "2022-06-25T18:35:23.994360Z"
    },
    "papermill": {
     "duration": 0.146922,
     "end_time": "2022-06-25T18:35:23.999496",
     "exception": false,
     "start_time": "2022-06-25T18:35:23.852574",
     "status": "completed"
    },
    "tags": []
   },
   "outputs": [],
   "source": [
    "#We see that with one variable we can explain more than 90% of the variance of the two original variables.\n",
    "\n",
    "\n",
    "pca=PCA(n_components=1)\n",
    "norm['Product_Related_PCA']=pca.fit_transform(norm[['ProductRelated','ProductRelated_Duration']])\n",
    "\n",
    "norm=norm.drop(['ProductRelated','ProductRelated_Duration'],axis=1)"
   ]
  },
  {
   "cell_type": "code",
   "execution_count": 40,
   "id": "e382fd46",
   "metadata": {
    "execution": {
     "iopub.execute_input": "2022-06-25T18:35:24.270392Z",
     "iopub.status.busy": "2022-06-25T18:35:24.270112Z",
     "iopub.status.idle": "2022-06-25T18:35:24.412293Z",
     "shell.execute_reply": "2022-06-25T18:35:24.411394Z"
    },
    "papermill": {
     "duration": 0.248669,
     "end_time": "2022-06-25T18:35:24.414779",
     "exception": false,
     "start_time": "2022-06-25T18:35:24.166110",
     "status": "completed"
    },
    "tags": []
   },
   "outputs": [
    {
     "data": {
      "image/png": "[encoded data removed]",
      "text/plain": [
       "<Figure size 432x288 with 1 Axes>"
      ]
     },
     "metadata": {
      "needs_background": "light"
     },
     "output_type": "display_data"
    }
   ],
   "source": [
    "pca2=PCA()\n",
    "pca2.fit(norm[['BounceRates','ExitRates']])\n",
    "\n",
    "#Representation of the accumulated explained variance.\n",
    "\n",
    "plt.plot(range(1,3), pca2.explained_variance_ratio_, c='orange')\n",
    "plt.bar(range(1,3), np.cumsum(pca2.explained_variance_ratio_))\n",
    "plt.xlabel(f'number of principal components')\n",
    "plt.ylabel(f'proportion of explained variance')\n",
    "plt.ylim(0,1)\n",
    "plt.axhline(0.9, c='black')\n",
    "plt.show()"
   ]
  },
  {
   "cell_type": "code",
   "execution_count": 41,
   "id": "87119204",
   "metadata": {
    "execution": {
     "iopub.execute_input": "2022-06-25T18:35:24.619987Z",
     "iopub.status.busy": "2022-06-25T18:35:24.619684Z",
     "iopub.status.idle": "2022-06-25T18:35:24.655375Z",
     "shell.execute_reply": "2022-06-25T18:35:24.654388Z"
    },
    "papermill": {
     "duration": 0.142809,
     "end_time": "2022-06-25T18:35:24.658715",
     "exception": false,
     "start_time": "2022-06-25T18:35:24.515906",
     "status": "completed"
    },
    "tags": []
   },
   "outputs": [],
   "source": [
    "#We see that with one variable we can explain more than 95% of the variance of the two original variables.\n",
    "\n",
    "pca2=PCA(n_components=1)\n",
    "\n",
    "norm['Bounce_Exit_PCA']=pca2.fit_transform(norm[['BounceRates','ExitRates']])\n",
    "\n",
    "norm=norm.drop(['BounceRates','ExitRates'],axis=1)"
   ]
  },
  {
   "cell_type": "code",
   "execution_count": 42,
   "id": "d7987a83",
   "metadata": {
    "execution": {
     "iopub.execute_input": "2022-06-25T18:35:24.936181Z",
     "iopub.status.busy": "2022-06-25T18:35:24.935889Z",
     "iopub.status.idle": "2022-06-25T18:35:25.065921Z",
     "shell.execute_reply": "2022-06-25T18:35:25.064951Z"
    },
    "papermill": {
     "duration": 0.235786,
     "end_time": "2022-06-25T18:35:25.068431",
     "exception": false,
     "start_time": "2022-06-25T18:35:24.832645",
     "status": "completed"
    },
    "tags": []
   },
   "outputs": [],
   "source": [
    "#Unite the new variables with other continuous ones and scale.\n",
    "\n",
    "numeric=numeric.drop(['ProductRelated','ProductRelated_Duration','BounceRates','ExitRates'],axis=1)\n",
    "numeric[['Product_Related_PCA','Bounce_Exit_PCA' ]]=norm\n",
    "\n",
    "#To improve the results, it will be necessary to transform the data so that they have a distribution that is as close as possible to a\n",
    "#normal. Although our data is very problematic in this regard (lots of '0' values ​​and also outliers).\n",
    "#to a normal one but we will still improve the predictive power of algorithms such as regression. In this case we will use the 'Yeo-Johnson' method.\n",
    "#Transformation also helps with outliers.\n",
    "\n",
    "columns=numeric.columns\n",
    "\n",
    "trans=PowerTransformer(standardize=False)\n",
    "numeric_trans=trans.fit_transform(numeric)\n",
    "\n",
    "#We normalize between 0 and 1 (we obtain better results in our particular case with the data we have)\n",
    "\n",
    "minmax=MinMaxScaler()\n",
    "numeric_scaled=pd.DataFrame(minmax.fit_transform(numeric_trans), columns=columns)\n"
   ]
  },
  {
   "cell_type": "code",
   "execution_count": 43,
   "id": "6ac44d1e",
   "metadata": {
    "execution": {
     "iopub.execute_input": "2022-06-25T18:35:25.272136Z",
     "iopub.status.busy": "2022-06-25T18:35:25.271775Z",
     "iopub.status.idle": "2022-06-25T18:35:25.290222Z",
     "shell.execute_reply": "2022-06-25T18:35:25.289268Z"
    },
    "papermill": {
     "duration": 0.123355,
     "end_time": "2022-06-25T18:35:25.292640",
     "exception": false,
     "start_time": "2022-06-25T18:35:25.169285",
     "status": "completed"
    },
    "tags": []
   },
   "outputs": [],
   "source": [
    "#One-Hot Encoding\n",
    "\n",
    "cat=pd.get_dummies(data.select_dtypes(include='category'), drop_first=True)"
   ]
  },
  {
   "cell_type": "code",
   "execution_count": 44,
   "id": "8414f63b",
   "metadata": {
    "execution": {
     "iopub.execute_input": "2022-06-25T18:35:25.499292Z",
     "iopub.status.busy": "2022-06-25T18:35:25.498980Z",
     "iopub.status.idle": "2022-06-25T18:35:25.513771Z",
     "shell.execute_reply": "2022-06-25T18:35:25.512793Z"
    },
    "papermill": {
     "duration": 0.119278,
     "end_time": "2022-06-25T18:35:25.516206",
     "exception": false,
     "start_time": "2022-06-25T18:35:25.396928",
     "status": "completed"
    },
    "tags": []
   },
   "outputs": [],
   "source": [
    "#Concatenating numeric and categorical data back\n",
    "\n",
    "df=pd.concat([cat, numeric_scaled], axis=1)\n",
    "\n",
    "y=df.Revenue_True\n",
    "X=df.drop('Revenue_True', axis=1)\n",
    "\n",
    "X_train, X_test, y_train, y_test=train_test_split(X, y, train_size=0.8, random_state=1)"
   ]
  },
  {
   "cell_type": "code",
   "execution_count": 45,
   "id": "cf799ea0",
   "metadata": {
    "execution": {
     "iopub.execute_input": "2022-06-25T18:35:25.722559Z",
     "iopub.status.busy": "2022-06-25T18:35:25.722241Z",
     "iopub.status.idle": "2022-06-25T18:35:31.609609Z",
     "shell.execute_reply": "2022-06-25T18:35:31.606969Z"
    },
    "papermill": {
     "duration": 5.995762,
     "end_time": "2022-06-25T18:35:31.613145",
     "exception": false,
     "start_time": "2022-06-25T18:35:25.617383",
     "status": "completed"
    },
    "tags": []
   },
   "outputs": [
    {
     "name": "stdout",
     "output_type": "stream",
     "text": [
      "The best model parameters are: {'C': 0.8, 'class_weight': 'balanced', 'max_iter': 100} \n",
      "\n",
      "Mean Cross Validation Roc AUC score of the logistic regression is 0.9157902458997621\n"
     ]
    }
   ],
   "source": [
    "#Let's start adjusting models. We will start with a linear model (as stipulated in the exercise) of logistic regression,\n",
    "#calibrate the best hyperparameters through exhaustive search with GridSearch. GridSearch will evaluate each combination\n",
    "#with cross-validation and it will return the best parameters and their respective cross-validation score (mean of Folds scores)\n",
    "\n",
    "regr=LogisticRegression()\n",
    "\n",
    "params={'C':[0.8,0.9,1],'class_weight':['balanced'], 'max_iter':[100,200]}\n",
    "\n",
    "model_log=GridSearchCV(regr,params,cv=6, scoring='roc_auc') #usamos el StratiifiedKFold (por defecto)\n",
    "\n",
    "model_log.fit(X_train, y_train)\n",
    "print(f'The best model parameters are: {model_log.best_params_} \\n')\n",
    "\n",
    "print(f'Mean Cross Validation Roc AUC score of the logistic regression is {model_log.best_score_}')"
   ]
  },
  {
   "cell_type": "code",
   "execution_count": 46,
   "id": "c3eb4800",
   "metadata": {
    "execution": {
     "iopub.execute_input": "2022-06-25T18:35:31.887989Z",
     "iopub.status.busy": "2022-06-25T18:35:31.887662Z",
     "iopub.status.idle": "2022-06-25T18:37:56.292496Z",
     "shell.execute_reply": "2022-06-25T18:37:56.290749Z"
    },
    "papermill": {
     "duration": 144.631713,
     "end_time": "2022-06-25T18:37:56.407269",
     "exception": false,
     "start_time": "2022-06-25T18:35:31.775556",
     "status": "completed"
    },
    "tags": []
   },
   "outputs": [
    {
     "name": "stdout",
     "output_type": "stream",
     "text": [
      "The best model parameters are: {'max_depth': 13, 'min_samples_leaf': 3} \n",
      "\n",
      "Mean Cross Validation Roc AUC score of the Random Forest Algorithm is 0.9031832927818328\n"
     ]
    }
   ],
   "source": [
    "#We will try Random Forest now\n",
    "\n",
    "forest=RandomForestClassifier(n_jobs=-1, n_estimators=200)\n",
    "\n",
    "params={'max_depth':range(6,14), 'min_samples_leaf':[2,3,4]}\n",
    "\n",
    "model_forest=GridSearchCV(forest, params, cv=6)\n",
    "\n",
    "#Random Forest does not require as much data preparation as linear models. You only need numerical data (categorical variables\n",
    "# have to be encoded). Therefore we will try to fit the model with 'almost original' data - from before dimensional reduction.\n",
    "#Later we will also adjust with the same regression data and see where we had better performance.\n",
    "\n",
    "data=data.drop('Revenue', axis=1)\n",
    "categ=pd.DataFrame()\n",
    "\n",
    "#We encode the categoricals differently (similar to LabelEncoder())\n",
    "\n",
    "for i in data.select_dtypes(include='category').columns:\n",
    "    categ[i]=pd.factorize(data[i])[0]\n",
    "\n",
    "df=pd.concat([categ,data.select_dtypes(exclude='category')], axis=1)\n",
    "\n",
    "X_train2, X_test2, y_train2, y_test2=train_test_split(df, y, train_size=0.8, random_state=1)\n",
    "\n",
    "\n",
    "\n",
    "model_forest.fit(X_train2, y_train2)\n",
    "\n",
    "print(f'The best model parameters are: {model_forest.best_params_} \\n')\n",
    "\n",
    "print(f'Mean Cross Validation Roc AUC score of the Random Forest Algorithm is {model_forest.best_score_}')"
   ]
  },
  {
   "cell_type": "code",
   "execution_count": 47,
   "id": "2fbe9b8d",
   "metadata": {
    "execution": {
     "iopub.execute_input": "2022-06-25T18:37:56.621643Z",
     "iopub.status.busy": "2022-06-25T18:37:56.621279Z",
     "iopub.status.idle": "2022-06-25T18:40:14.025254Z",
     "shell.execute_reply": "2022-06-25T18:40:14.024258Z"
    },
    "papermill": {
     "duration": 137.614891,
     "end_time": "2022-06-25T18:40:14.130629",
     "exception": false,
     "start_time": "2022-06-25T18:37:56.515738",
     "status": "completed"
    },
    "tags": []
   },
   "outputs": [
    {
     "name": "stdout",
     "output_type": "stream",
     "text": [
      "The best model parameters are: {'max_depth': 13, 'min_samples_leaf': 3} \n",
      "\n",
      "Mean Cross Validation Roc AUC score of the Random Forest Algorithm is 0.9015612327656125\n"
     ]
    }
   ],
   "source": [
    "#We will try with the fully transformed data (same input as in logistic regression)\n",
    "\n",
    "forest2=RandomForestClassifier(n_jobs=-1, n_estimators=200)\n",
    "\n",
    "params={'max_depth':range(6,14), 'min_samples_leaf':[2,3,4]}\n",
    "\n",
    "model_forest=GridSearchCV(forest, params, cv=6)\n",
    "\n",
    "model_forest.fit(X_train, y_train)\n",
    "\n",
    "print(f'The best model parameters are: {model_forest.best_params_} \\n')\n",
    "\n",
    "print(f'Mean Cross Validation Roc AUC score of the Random Forest Algorithm is {model_forest.best_score_}')"
   ]
  },
  {
   "cell_type": "code",
   "execution_count": 48,
   "id": "31bb4b17",
   "metadata": {
    "execution": {
     "iopub.execute_input": "2022-06-25T18:40:14.335693Z",
     "iopub.status.busy": "2022-06-25T18:40:14.335381Z",
     "iopub.status.idle": "2022-06-25T18:40:14.339764Z",
     "shell.execute_reply": "2022-06-25T18:40:14.338775Z"
    },
    "papermill": {
     "duration": 0.108897,
     "end_time": "2022-06-25T18:40:14.341975",
     "exception": false,
     "start_time": "2022-06-25T18:40:14.233078",
     "status": "completed"
    },
    "tags": []
   },
   "outputs": [],
   "source": [
    "#We can see the cross-validation result obtained for Random Forest is almost similar for\"original\" and transformed data."
   ]
  },
  {
   "cell_type": "code",
   "execution_count": 49,
   "id": "5e496c81",
   "metadata": {
    "execution": {
     "iopub.execute_input": "2022-06-25T18:40:14.553473Z",
     "iopub.status.busy": "2022-06-25T18:40:14.553192Z",
     "iopub.status.idle": "2022-06-25T18:40:14.561156Z",
     "shell.execute_reply": "2022-06-25T18:40:14.560275Z"
    },
    "papermill": {
     "duration": 0.117447,
     "end_time": "2022-06-25T18:40:14.563174",
     "exception": false,
     "start_time": "2022-06-25T18:40:14.445727",
     "status": "completed"
    },
    "tags": []
   },
   "outputs": [],
   "source": [
    "#Now we will implement the deep learning model. We will use Keras and configure the parameters through GridSearchCV\n",
    "#using Keras wrapper for ScikitLearn API\n",
    "\n",
    "#Construction of the model:\n",
    "\n",
    "def deep_model_compile(optimizer='Adam', dropout=0.1): \n",
    "    \n",
    "    model=Sequential()\n",
    "    model.add(Dense(30, activation='relu',input_shape=(X_train.shape[1],),activity_regularizer=regularizers.L2(0.001)))\n",
    "    model.add(Dense(30, activation='relu',activity_regularizer=regularizers.L2(0.001)))\n",
    "    model.add(Dense(30, activation='relu',activity_regularizer=regularizers.L2(0.001)))\n",
    "    model.add(Dropout(dropout), )\n",
    "    model.add(Dense(1, activation='sigmoid'))\n",
    "    model.compile(loss='binary_crossentropy', optimizer=optimizer, metrics='AUC')\n",
    "    return model"
   ]
  },
  {
   "cell_type": "code",
   "execution_count": 50,
   "id": "7b607321",
   "metadata": {
    "execution": {
     "iopub.execute_input": "2022-06-25T18:40:14.769696Z",
     "iopub.status.busy": "2022-06-25T18:40:14.769420Z",
     "iopub.status.idle": "2022-06-25T18:40:14.775954Z",
     "shell.execute_reply": "2022-06-25T18:40:14.774926Z"
    },
    "papermill": {
     "duration": 0.112295,
     "end_time": "2022-06-25T18:40:14.777988",
     "exception": false,
     "start_time": "2022-06-25T18:40:14.665693",
     "status": "completed"
    },
    "tags": []
   },
   "outputs": [],
   "source": [
    "#we want to use early stop regularization to prevent overfitting\n",
    "\n",
    "callback=EarlyStopping(monitor='auc',min_delta=0.01, patience=5)\n",
    "\n",
    "#parameters to examine:\n",
    "\n",
    "params={'callbacks':[callback],\n",
    "    'epochs': [30],\n",
    "    'batch_size':[100, 25],\n",
    "    'optimizer':['RMSprop', 'Adam', 'Adamax', 'sgd']}\n",
    "\n",
    "#initialization of the wrapper\n",
    "classify= KerasClassifier(build_fn=deep_model_compile)\n",
    "\n",
    "deep_model=GridSearchCV(classify, params, cv=6, scoring='roc_auc')"
   ]
  },
  {
   "cell_type": "code",
   "execution_count": 51,
   "id": "424dbf04",
   "metadata": {
    "execution": {
     "iopub.execute_input": "2022-06-25T18:40:14.985060Z",
     "iopub.status.busy": "2022-06-25T18:40:14.984007Z",
     "iopub.status.idle": "2022-06-25T18:43:51.413998Z",
     "shell.execute_reply": "2022-06-25T18:43:51.412944Z"
    },
    "papermill": {
     "duration": 216.535878,
     "end_time": "2022-06-25T18:43:51.416397",
     "exception": false,
     "start_time": "2022-06-25T18:40:14.880519",
     "status": "completed"
    },
    "tags": []
   },
   "outputs": [
    {
     "name": "stderr",
     "output_type": "stream",
     "text": [
      "2022-06-25 18:40:15.031769: I tensorflow/core/common_runtime/process_util.cc:146] Creating new thread pool with default inter op setting: 2. Tune using inter_op_parallelism_threads for best performance.\n",
      "2022-06-25 18:40:15.262233: I tensorflow/compiler/mlir/mlir_graph_optimization_pass.cc:185] None of the MLIR Optimization Passes are enabled (registered 2)\n"
     ]
    },
    {
     "name": "stdout",
     "output_type": "stream",
     "text": [
      "Epoch 1/30\n",
      "83/83 [==============================] - 2s 3ms/step - loss: 0.4415 - auc: 0.6734\n",
      "Epoch 2/30\n",
      "83/83 [==============================] - 0s 3ms/step - loss: 0.2916 - auc: 0.8937\n",
      "Epoch 3/30\n",
      "83/83 [==============================] - 0s 4ms/step - loss: 0.2700 - auc: 0.9117\n",
      "Epoch 4/30\n",
      "83/83 [==============================] - 0s 3ms/step - loss: 0.2605 - auc: 0.9177\n",
      "Epoch 5/30\n",
      "83/83 [==============================] - 0s 3ms/step - loss: 0.2543 - auc: 0.9219\n",
      "Epoch 6/30\n",
      "83/83 [==============================] - 0s 3ms/step - loss: 0.2473 - auc: 0.9273\n",
      "Epoch 1/30\n",
      "83/83 [==============================] - 1s 3ms/step - loss: 0.4084 - auc: 0.7419\n",
      "Epoch 2/30\n",
      "83/83 [==============================] - 0s 3ms/step - loss: 0.2970 - auc: 0.8908\n",
      "Epoch 3/30\n",
      "83/83 [==============================] - 0s 3ms/step - loss: 0.2759 - auc: 0.9069\n",
      "Epoch 4/30\n",
      "83/83 [==============================] - 0s 3ms/step - loss: 0.2657 - auc: 0.9161\n",
      "Epoch 5/30\n",
      "83/83 [==============================] - 0s 3ms/step - loss: 0.2611 - auc: 0.9186\n",
      "Epoch 6/30\n",
      "83/83 [==============================] - 0s 3ms/step - loss: 0.2546 - auc: 0.9234\n",
      "Epoch 1/30\n",
      "83/83 [==============================] - 1s 3ms/step - loss: 0.4558 - auc: 0.6145\n",
      "Epoch 2/30\n",
      "83/83 [==============================] - 0s 3ms/step - loss: 0.3127 - auc: 0.8821\n",
      "Epoch 3/30\n",
      "83/83 [==============================] - 0s 3ms/step - loss: 0.2788 - auc: 0.9063\n",
      "Epoch 4/30\n",
      "83/83 [==============================] - 0s 3ms/step - loss: 0.2694 - auc: 0.9136\n",
      "Epoch 5/30\n",
      "83/83 [==============================] - 0s 3ms/step - loss: 0.2625 - auc: 0.9196\n",
      "Epoch 6/30\n",
      "83/83 [==============================] - 0s 3ms/step - loss: 0.2569 - auc: 0.9237\n",
      "Epoch 1/30\n",
      "83/83 [==============================] - 1s 3ms/step - loss: 0.4248 - auc: 0.7133\n",
      "Epoch 2/30\n",
      "83/83 [==============================] - 0s 3ms/step - loss: 0.2957 - auc: 0.8993\n",
      "Epoch 3/30\n",
      "83/83 [==============================] - 0s 3ms/step - loss: 0.2707 - auc: 0.9157\n",
      "Epoch 4/30\n",
      "83/83 [==============================] - 0s 3ms/step - loss: 0.2640 - auc: 0.9192\n",
      "Epoch 5/30\n",
      "83/83 [==============================] - 0s 3ms/step - loss: 0.2579 - auc: 0.9229\n",
      "Epoch 6/30\n",
      "83/83 [==============================] - 0s 4ms/step - loss: 0.2528 - auc: 0.9258\n",
      "Epoch 1/30\n",
      "83/83 [==============================] - 1s 3ms/step - loss: 0.4163 - auc: 0.7119\n",
      "Epoch 2/30\n",
      "83/83 [==============================] - 0s 3ms/step - loss: 0.2989 - auc: 0.8921\n",
      "Epoch 3/30\n",
      "83/83 [==============================] - 0s 3ms/step - loss: 0.2742 - auc: 0.9088\n",
      "Epoch 4/30\n",
      "83/83 [==============================] - 0s 3ms/step - loss: 0.2654 - auc: 0.9139\n",
      "Epoch 5/30\n",
      "83/83 [==============================] - 0s 3ms/step - loss: 0.2592 - auc: 0.9185\n",
      "Epoch 6/30\n",
      "83/83 [==============================] - 0s 3ms/step - loss: 0.2536 - auc: 0.9225\n",
      "Epoch 1/30\n",
      "83/83 [==============================] - 1s 3ms/step - loss: 0.4333 - auc: 0.6713\n",
      "Epoch 2/30\n",
      "83/83 [==============================] - 0s 3ms/step - loss: 0.3011 - auc: 0.8917\n",
      "Epoch 3/30\n",
      "83/83 [==============================] - 0s 3ms/step - loss: 0.2723 - auc: 0.9103\n",
      "Epoch 4/30\n",
      "83/83 [==============================] - 0s 3ms/step - loss: 0.2642 - auc: 0.9176\n",
      "Epoch 5/30\n",
      "83/83 [==============================] - 0s 3ms/step - loss: 0.2586 - auc: 0.9209\n",
      "Epoch 6/30\n",
      "83/83 [==============================] - 0s 4ms/step - loss: 0.2525 - auc: 0.9248\n",
      "Epoch 1/30\n",
      "83/83 [==============================] - 1s 4ms/step - loss: 0.4675 - auc: 0.5888\n",
      "Epoch 2/30\n",
      "83/83 [==============================] - 0s 3ms/step - loss: 0.3171 - auc: 0.8796\n",
      "Epoch 3/30\n",
      "83/83 [==============================] - 0s 3ms/step - loss: 0.2682 - auc: 0.9150\n",
      "Epoch 4/30\n",
      "83/83 [==============================] - 0s 3ms/step - loss: 0.2566 - auc: 0.9228\n",
      "Epoch 5/30\n",
      "83/83 [==============================] - 0s 3ms/step - loss: 0.2490 - auc: 0.9284\n",
      "Epoch 6/30\n",
      "83/83 [==============================] - 0s 3ms/step - loss: 0.2437 - auc: 0.9304\n",
      "Epoch 1/30\n",
      "83/83 [==============================] - 1s 4ms/step - loss: 0.4557 - auc: 0.6292\n",
      "Epoch 2/30\n",
      "83/83 [==============================] - 0s 3ms/step - loss: 0.3168 - auc: 0.8803\n",
      "Epoch 3/30\n",
      "83/83 [==============================] - 0s 3ms/step - loss: 0.2786 - auc: 0.9089\n",
      "Epoch 4/30\n",
      "83/83 [==============================] - 0s 3ms/step - loss: 0.2678 - auc: 0.9157\n",
      "Epoch 5/30\n",
      "83/83 [==============================] - 0s 3ms/step - loss: 0.2579 - auc: 0.9235\n",
      "Epoch 6/30\n",
      "83/83 [==============================] - 0s 3ms/step - loss: 0.2532 - auc: 0.9250\n",
      "Epoch 1/30\n",
      "83/83 [==============================] - 2s 3ms/step - loss: 0.4971 - auc: 0.5618\n",
      "Epoch 2/30\n",
      "83/83 [==============================] - 0s 3ms/step - loss: 0.3141 - auc: 0.8853\n",
      "Epoch 3/30\n",
      "83/83 [==============================] - 0s 3ms/step - loss: 0.2785 - auc: 0.9066\n",
      "Epoch 4/30\n",
      "83/83 [==============================] - 0s 3ms/step - loss: 0.2667 - auc: 0.9172\n",
      "Epoch 5/30\n",
      "83/83 [==============================] - 0s 3ms/step - loss: 0.2599 - auc: 0.9216\n",
      "Epoch 6/30\n",
      "83/83 [==============================] - 0s 3ms/step - loss: 0.2514 - auc: 0.9265\n",
      "Epoch 1/30\n",
      "83/83 [==============================] - 1s 4ms/step - loss: 0.4409 - auc: 0.6514\n",
      "Epoch 2/30\n",
      "83/83 [==============================] - 0s 3ms/step - loss: 0.3042 - auc: 0.8922\n",
      "Epoch 3/30\n",
      "83/83 [==============================] - 0s 3ms/step - loss: 0.2729 - auc: 0.9115\n",
      "Epoch 4/30\n",
      "83/83 [==============================] - 0s 3ms/step - loss: 0.2645 - auc: 0.9165\n",
      "Epoch 5/30\n",
      "83/83 [==============================] - 0s 3ms/step - loss: 0.2571 - auc: 0.9221\n",
      "Epoch 6/30\n",
      "83/83 [==============================] - 0s 3ms/step - loss: 0.2490 - auc: 0.9268\n",
      "Epoch 1/30\n",
      "83/83 [==============================] - 1s 3ms/step - loss: 0.4782 - auc: 0.5783\n",
      "Epoch 2/30\n",
      "83/83 [==============================] - 0s 3ms/step - loss: 0.3295 - auc: 0.8772\n",
      "Epoch 3/30\n",
      "83/83 [==============================] - 0s 3ms/step - loss: 0.2819 - auc: 0.9072\n",
      "Epoch 4/30\n",
      "83/83 [==============================] - 0s 3ms/step - loss: 0.2699 - auc: 0.9150\n",
      "Epoch 5/30\n",
      "83/83 [==============================] - 0s 3ms/step - loss: 0.2632 - auc: 0.9193\n",
      "Epoch 6/30\n",
      "83/83 [==============================] - 0s 4ms/step - loss: 0.2568 - auc: 0.9234\n",
      "Epoch 1/30\n",
      "83/83 [==============================] - 1s 3ms/step - loss: 0.4553 - auc: 0.6244\n",
      "Epoch 2/30\n",
      "83/83 [==============================] - 0s 3ms/step - loss: 0.2924 - auc: 0.8947\n",
      "Epoch 3/30\n",
      "83/83 [==============================] - 0s 3ms/step - loss: 0.2647 - auc: 0.9154\n",
      "Epoch 4/30\n",
      "83/83 [==============================] - 0s 3ms/step - loss: 0.2564 - auc: 0.9217\n",
      "Epoch 5/30\n",
      "83/83 [==============================] - 0s 3ms/step - loss: 0.2478 - auc: 0.9277\n",
      "Epoch 6/30\n",
      "83/83 [==============================] - 0s 3ms/step - loss: 0.2428 - auc: 0.9306\n",
      "Epoch 1/30\n",
      "83/83 [==============================] - 1s 3ms/step - loss: 0.4885 - auc: 0.5050\n",
      "Epoch 2/30\n",
      "83/83 [==============================] - 0s 3ms/step - loss: 0.4051 - auc: 0.7382\n",
      "Epoch 3/30\n",
      "83/83 [==============================] - 0s 3ms/step - loss: 0.3474 - auc: 0.8477\n",
      "Epoch 4/30\n",
      "83/83 [==============================] - 0s 3ms/step - loss: 0.3055 - auc: 0.8893\n",
      "Epoch 5/30\n",
      "83/83 [==============================] - 0s 3ms/step - loss: 0.2863 - auc: 0.9014\n",
      "Epoch 6/30\n",
      "83/83 [==============================] - 0s 3ms/step - loss: 0.2787 - auc: 0.9047\n",
      "Epoch 1/30\n",
      "83/83 [==============================] - 1s 3ms/step - loss: 0.5404 - auc: 0.5108\n",
      "Epoch 2/30\n",
      "83/83 [==============================] - 0s 3ms/step - loss: 0.4155 - auc: 0.7112\n",
      "Epoch 3/30\n",
      "83/83 [==============================] - 0s 3ms/step - loss: 0.3572 - auc: 0.8474\n",
      "Epoch 4/30\n",
      "83/83 [==============================] - 0s 3ms/step - loss: 0.3100 - auc: 0.8880\n",
      "Epoch 5/30\n",
      "83/83 [==============================] - 0s 3ms/step - loss: 0.2864 - auc: 0.9020\n",
      "Epoch 6/30\n",
      "83/83 [==============================] - 0s 3ms/step - loss: 0.2769 - auc: 0.9078\n",
      "Epoch 1/30\n",
      "83/83 [==============================] - 1s 3ms/step - loss: 0.5544 - auc: 0.5112\n",
      "Epoch 2/30\n",
      "83/83 [==============================] - 0s 3ms/step - loss: 0.4081 - auc: 0.7363\n",
      "Epoch 3/30\n",
      "83/83 [==============================] - 0s 4ms/step - loss: 0.3661 - auc: 0.8304\n",
      "Epoch 4/30\n",
      "83/83 [==============================] - 0s 4ms/step - loss: 0.3314 - auc: 0.8679\n",
      "Epoch 5/30\n",
      "83/83 [==============================] - 0s 3ms/step - loss: 0.3049 - auc: 0.8879\n",
      "Epoch 6/30\n",
      "83/83 [==============================] - 0s 3ms/step - loss: 0.2893 - auc: 0.8981\n",
      "Epoch 1/30\n",
      "83/83 [==============================] - 1s 3ms/step - loss: 0.5492 - auc: 0.4889\n",
      "Epoch 2/30\n",
      "83/83 [==============================] - 0s 3ms/step - loss: 0.4170 - auc: 0.7080\n",
      "Epoch 3/30\n",
      "83/83 [==============================] - 0s 3ms/step - loss: 0.3542 - auc: 0.8582\n",
      "Epoch 4/30\n",
      "83/83 [==============================] - 0s 3ms/step - loss: 0.3122 - auc: 0.8858\n",
      "Epoch 5/30\n",
      "83/83 [==============================] - 0s 3ms/step - loss: 0.2889 - auc: 0.8994\n",
      "Epoch 6/30\n",
      "83/83 [==============================] - 0s 3ms/step - loss: 0.2791 - auc: 0.9047\n",
      "Epoch 1/30\n",
      "83/83 [==============================] - 1s 3ms/step - loss: 0.4600 - auc: 0.5662\n",
      "Epoch 2/30\n",
      "83/83 [==============================] - 0s 3ms/step - loss: 0.3900 - auc: 0.7802\n",
      "Epoch 3/30\n",
      "83/83 [==============================] - 0s 3ms/step - loss: 0.3469 - auc: 0.8535\n",
      "Epoch 4/30\n",
      "83/83 [==============================] - 0s 3ms/step - loss: 0.3108 - auc: 0.8883\n",
      "Epoch 5/30\n",
      "83/83 [==============================] - 0s 3ms/step - loss: 0.2903 - auc: 0.8994\n",
      "Epoch 6/30\n",
      "83/83 [==============================] - 0s 3ms/step - loss: 0.2796 - auc: 0.9065\n",
      "Epoch 1/30\n",
      "83/83 [==============================] - 2s 3ms/step - loss: 0.5134 - auc: 0.5064\n",
      "Epoch 2/30\n",
      "83/83 [==============================] - 0s 4ms/step - loss: 0.3928 - auc: 0.7605\n",
      "Epoch 3/30\n",
      "83/83 [==============================] - 0s 5ms/step - loss: 0.3339 - auc: 0.8637\n",
      "Epoch 4/30\n",
      "83/83 [==============================] - 0s 5ms/step - loss: 0.2999 - auc: 0.8903\n",
      "Epoch 5/30\n",
      "83/83 [==============================] - 0s 3ms/step - loss: 0.2832 - auc: 0.9002\n",
      "Epoch 6/30\n",
      "83/83 [==============================] - 0s 3ms/step - loss: 0.2746 - auc: 0.9069\n",
      "Epoch 1/30\n",
      "83/83 [==============================] - 1s 3ms/step - loss: 0.6336 - auc: 0.4711\n",
      "Epoch 2/30\n",
      "83/83 [==============================] - 0s 3ms/step - loss: 0.5198 - auc: 0.5624\n",
      "Epoch 3/30\n",
      "83/83 [==============================] - 0s 3ms/step - loss: 0.4535 - auc: 0.6300\n",
      "Epoch 4/30\n",
      "83/83 [==============================] - 0s 3ms/step - loss: 0.4292 - auc: 0.6737\n",
      "Epoch 5/30\n",
      "83/83 [==============================] - 0s 3ms/step - loss: 0.4186 - auc: 0.7041\n",
      "Epoch 6/30\n",
      "83/83 [==============================] - 0s 3ms/step - loss: 0.4075 - auc: 0.7470\n",
      "Epoch 1/30\n",
      "83/83 [==============================] - 1s 3ms/step - loss: 0.6388 - auc: 0.5247\n",
      "Epoch 2/30\n",
      "83/83 [==============================] - 0s 3ms/step - loss: 0.5008 - auc: 0.5550\n",
      "Epoch 3/30\n",
      "83/83 [==============================] - 0s 4ms/step - loss: 0.4499 - auc: 0.6026\n",
      "Epoch 4/30\n",
      "83/83 [==============================] - 0s 3ms/step - loss: 0.4300 - auc: 0.6623\n",
      "Epoch 5/30\n",
      "83/83 [==============================] - 0s 3ms/step - loss: 0.4160 - auc: 0.7200\n",
      "Epoch 6/30\n",
      "83/83 [==============================] - 0s 3ms/step - loss: 0.4042 - auc: 0.7600\n",
      "Epoch 1/30\n",
      "83/83 [==============================] - 1s 3ms/step - loss: 0.5408 - auc: 0.5687\n",
      "Epoch 2/30\n",
      "83/83 [==============================] - 0s 3ms/step - loss: 0.4414 - auc: 0.6513\n",
      "Epoch 3/30\n",
      "83/83 [==============================] - 0s 3ms/step - loss: 0.4157 - auc: 0.7178\n",
      "Epoch 4/30\n",
      "83/83 [==============================] - 0s 3ms/step - loss: 0.4008 - auc: 0.7696\n",
      "Epoch 5/30\n",
      "83/83 [==============================] - 0s 3ms/step - loss: 0.3871 - auc: 0.8099\n",
      "Epoch 6/30\n",
      "83/83 [==============================] - 0s 3ms/step - loss: 0.3715 - auc: 0.8404\n",
      "Epoch 1/30\n",
      "83/83 [==============================] - 1s 3ms/step - loss: 0.6599 - auc: 0.5579\n",
      "Epoch 2/30\n",
      "83/83 [==============================] - 0s 3ms/step - loss: 0.5137 - auc: 0.5811\n",
      "Epoch 3/30\n",
      "83/83 [==============================] - 0s 3ms/step - loss: 0.4574 - auc: 0.6295\n",
      "Epoch 4/30\n",
      "83/83 [==============================] - 0s 3ms/step - loss: 0.4332 - auc: 0.6715\n",
      "Epoch 5/30\n",
      "83/83 [==============================] - 0s 3ms/step - loss: 0.4215 - auc: 0.7190\n",
      "Epoch 6/30\n",
      "83/83 [==============================] - 0s 3ms/step - loss: 0.4116 - auc: 0.7593\n",
      "Epoch 1/30\n",
      "83/83 [==============================] - 1s 3ms/step - loss: 0.5558 - auc: 0.5712\n",
      "Epoch 2/30\n",
      "83/83 [==============================] - 0s 3ms/step - loss: 0.4581 - auc: 0.6165\n",
      "Epoch 3/30\n",
      "83/83 [==============================] - 0s 3ms/step - loss: 0.4246 - auc: 0.6802\n",
      "Epoch 4/30\n",
      "83/83 [==============================] - 0s 3ms/step - loss: 0.4113 - auc: 0.7297\n",
      "Epoch 5/30\n",
      "83/83 [==============================] - 0s 3ms/step - loss: 0.4002 - auc: 0.7685\n",
      "Epoch 6/30\n",
      "83/83 [==============================] - 0s 3ms/step - loss: 0.3910 - auc: 0.7938\n",
      "Epoch 1/30\n",
      "83/83 [==============================] - 1s 3ms/step - loss: 0.5595 - auc: 0.5111\n",
      "Epoch 2/30\n",
      "83/83 [==============================] - 0s 3ms/step - loss: 0.4693 - auc: 0.5238\n",
      "Epoch 3/30\n",
      "83/83 [==============================] - 0s 3ms/step - loss: 0.4419 - auc: 0.5845\n",
      "Epoch 4/30\n",
      "83/83 [==============================] - 0s 3ms/step - loss: 0.4278 - auc: 0.6546\n",
      "Epoch 5/30\n",
      "83/83 [==============================] - 0s 3ms/step - loss: 0.4158 - auc: 0.7145\n",
      "Epoch 6/30\n",
      "83/83 [==============================] - 0s 3ms/step - loss: 0.4038 - auc: 0.7659\n",
      "Epoch 1/30\n",
      "329/329 [==============================] - 2s 2ms/step - loss: 0.3627 - auc: 0.8179\n",
      "Epoch 2/30\n",
      "329/329 [==============================] - 1s 2ms/step - loss: 0.2751 - auc: 0.9078\n",
      "Epoch 3/30\n",
      "329/329 [==============================] - 1s 2ms/step - loss: 0.2622 - auc: 0.9166\n",
      "Epoch 4/30\n",
      "329/329 [==============================] - 1s 2ms/step - loss: 0.2541 - auc: 0.9198\n",
      "Epoch 5/30\n",
      "329/329 [==============================] - 1s 2ms/step - loss: 0.2465 - auc: 0.9244\n",
      "Epoch 6/30\n",
      "329/329 [==============================] - 1s 2ms/step - loss: 0.2422 - auc: 0.9265\n",
      "Epoch 1/30\n",
      "329/329 [==============================] - 2s 2ms/step - loss: 0.3343 - auc: 0.8537\n",
      "Epoch 2/30\n",
      "329/329 [==============================] - 1s 2ms/step - loss: 0.2711 - auc: 0.9077\n",
      "Epoch 3/30\n",
      "329/329 [==============================] - 1s 2ms/step - loss: 0.2572 - auc: 0.9182\n",
      "Epoch 4/30\n",
      "329/329 [==============================] - 1s 2ms/step - loss: 0.2497 - auc: 0.9236\n",
      "Epoch 5/30\n",
      "329/329 [==============================] - 1s 2ms/step - loss: 0.2463 - auc: 0.9249\n",
      "Epoch 6/30\n",
      "329/329 [==============================] - 1s 2ms/step - loss: 0.2417 - auc: 0.9270\n",
      "Epoch 1/30\n",
      "329/329 [==============================] - 2s 2ms/step - loss: 0.3474 - auc: 0.8305\n",
      "Epoch 2/30\n",
      "329/329 [==============================] - 1s 3ms/step - loss: 0.2726 - auc: 0.9091\n",
      "Epoch 3/30\n",
      "329/329 [==============================] - 1s 2ms/step - loss: 0.2634 - auc: 0.9164\n",
      "Epoch 4/30\n",
      "329/329 [==============================] - 1s 2ms/step - loss: 0.2555 - auc: 0.9217\n",
      "Epoch 5/30\n",
      "329/329 [==============================] - 1s 2ms/step - loss: 0.2485 - auc: 0.9249\n",
      "Epoch 6/30\n",
      "329/329 [==============================] - 1s 2ms/step - loss: 0.2459 - auc: 0.9258\n",
      "Epoch 1/30\n",
      "329/329 [==============================] - 2s 2ms/step - loss: 0.3519 - auc: 0.8336\n",
      "Epoch 2/30\n",
      "329/329 [==============================] - 1s 2ms/step - loss: 0.2721 - auc: 0.9114\n",
      "Epoch 3/30\n",
      "329/329 [==============================] - 1s 2ms/step - loss: 0.2589 - auc: 0.9206\n",
      "Epoch 4/30\n",
      "329/329 [==============================] - 1s 2ms/step - loss: 0.2521 - auc: 0.9245\n",
      "Epoch 5/30\n",
      "329/329 [==============================] - 1s 2ms/step - loss: 0.2479 - auc: 0.9256\n",
      "Epoch 6/30\n",
      "329/329 [==============================] - 1s 2ms/step - loss: 0.2427 - auc: 0.9278\n",
      "Epoch 1/30\n",
      "329/329 [==============================] - 2s 2ms/step - loss: 0.3486 - auc: 0.8310\n",
      "Epoch 2/30\n",
      "329/329 [==============================] - 1s 2ms/step - loss: 0.2735 - auc: 0.9073\n",
      "Epoch 3/30\n",
      "329/329 [==============================] - 1s 2ms/step - loss: 0.2637 - auc: 0.9139\n",
      "Epoch 4/30\n",
      "329/329 [==============================] - 1s 2ms/step - loss: 0.2561 - auc: 0.9190\n",
      "Epoch 5/30\n",
      "329/329 [==============================] - 1s 2ms/step - loss: 0.2499 - auc: 0.9225\n",
      "Epoch 6/30\n",
      "329/329 [==============================] - 1s 2ms/step - loss: 0.2470 - auc: 0.9227\n",
      "Epoch 1/30\n",
      "329/329 [==============================] - 2s 2ms/step - loss: 0.3414 - auc: 0.8396\n",
      "Epoch 2/30\n",
      "329/329 [==============================] - 1s 2ms/step - loss: 0.2684 - auc: 0.9117\n",
      "Epoch 3/30\n",
      "329/329 [==============================] - 1s 2ms/step - loss: 0.2594 - auc: 0.9172\n",
      "Epoch 4/30\n",
      "329/329 [==============================] - 1s 2ms/step - loss: 0.2525 - auc: 0.9218\n",
      "Epoch 5/30\n",
      "329/329 [==============================] - 1s 2ms/step - loss: 0.2481 - auc: 0.9238\n",
      "Epoch 6/30\n",
      "329/329 [==============================] - 1s 2ms/step - loss: 0.2423 - auc: 0.9266\n",
      "Epoch 1/30\n",
      "329/329 [==============================] - 2s 2ms/step - loss: 0.3520 - auc: 0.8261\n",
      "Epoch 2/30\n",
      "329/329 [==============================] - 1s 2ms/step - loss: 0.2628 - auc: 0.9155\n",
      "Epoch 3/30\n",
      "329/329 [==============================] - 1s 2ms/step - loss: 0.2492 - auc: 0.9247\n",
      "Epoch 4/30\n",
      "329/329 [==============================] - 1s 2ms/step - loss: 0.2390 - auc: 0.9308\n",
      "Epoch 5/30\n",
      "329/329 [==============================] - 1s 2ms/step - loss: 0.2319 - auc: 0.9353\n",
      "Epoch 6/30\n",
      "329/329 [==============================] - 1s 2ms/step - loss: 0.2257 - auc: 0.9385\n",
      "Epoch 1/30\n",
      "329/329 [==============================] - 2s 2ms/step - loss: 0.3621 - auc: 0.8157\n",
      "Epoch 2/30\n",
      "329/329 [==============================] - 1s 2ms/step - loss: 0.2673 - auc: 0.9142\n",
      "Epoch 3/30\n",
      "329/329 [==============================] - 1s 2ms/step - loss: 0.2522 - auc: 0.9231\n",
      "Epoch 4/30\n",
      "329/329 [==============================] - 1s 2ms/step - loss: 0.2452 - auc: 0.9275\n",
      "Epoch 5/30\n",
      "329/329 [==============================] - 1s 2ms/step - loss: 0.2390 - auc: 0.9305\n",
      "Epoch 6/30\n",
      "329/329 [==============================] - 1s 4ms/step - loss: 0.2333 - auc: 0.9341\n",
      "Epoch 1/30\n",
      "329/329 [==============================] - 2s 2ms/step - loss: 0.3567 - auc: 0.8231\n",
      "Epoch 2/30\n",
      "329/329 [==============================] - 1s 2ms/step - loss: 0.2676 - auc: 0.9137\n",
      "Epoch 3/30\n",
      "329/329 [==============================] - 1s 2ms/step - loss: 0.2542 - auc: 0.9232\n",
      "Epoch 4/30\n",
      "329/329 [==============================] - 1s 2ms/step - loss: 0.2458 - auc: 0.9276\n",
      "Epoch 5/30\n",
      "329/329 [==============================] - 1s 2ms/step - loss: 0.2393 - auc: 0.9324\n",
      "Epoch 6/30\n",
      "329/329 [==============================] - 1s 2ms/step - loss: 0.2324 - auc: 0.9359\n",
      "Epoch 1/30\n",
      "329/329 [==============================] - 2s 3ms/step - loss: 0.3509 - auc: 0.8294\n",
      "Epoch 2/30\n",
      "329/329 [==============================] - 1s 2ms/step - loss: 0.2630 - auc: 0.9175\n",
      "Epoch 3/30\n",
      "329/329 [==============================] - 1s 2ms/step - loss: 0.2486 - auc: 0.9276\n",
      "Epoch 4/30\n",
      "329/329 [==============================] - 1s 2ms/step - loss: 0.2402 - auc: 0.9322\n",
      "Epoch 5/30\n",
      "329/329 [==============================] - 1s 2ms/step - loss: 0.2357 - auc: 0.9343\n",
      "Epoch 6/30\n",
      "329/329 [==============================] - 1s 2ms/step - loss: 0.2304 - auc: 0.9378\n",
      "Epoch 1/30\n",
      "329/329 [==============================] - 2s 2ms/step - loss: 0.3663 - auc: 0.8135\n",
      "Epoch 2/30\n",
      "329/329 [==============================] - 1s 2ms/step - loss: 0.2646 - auc: 0.9162\n",
      "Epoch 3/30\n",
      "329/329 [==============================] - 1s 2ms/step - loss: 0.2500 - auc: 0.9254\n",
      "Epoch 4/30\n",
      "329/329 [==============================] - 1s 2ms/step - loss: 0.2431 - auc: 0.9291\n",
      "Epoch 5/30\n",
      "329/329 [==============================] - 1s 2ms/step - loss: 0.2362 - auc: 0.9334\n",
      "Epoch 6/30\n",
      "329/329 [==============================] - 1s 2ms/step - loss: 0.2308 - auc: 0.9360\n",
      "Epoch 1/30\n",
      "329/329 [==============================] - 2s 2ms/step - loss: 0.3554 - auc: 0.8217\n",
      "Epoch 2/30\n",
      "329/329 [==============================] - 1s 2ms/step - loss: 0.2661 - auc: 0.9140\n",
      "Epoch 3/30\n",
      "329/329 [==============================] - 1s 2ms/step - loss: 0.2543 - auc: 0.9222\n",
      "Epoch 4/30\n",
      "329/329 [==============================] - 1s 3ms/step - loss: 0.2428 - auc: 0.9290\n",
      "Epoch 5/30\n",
      "329/329 [==============================] - 1s 2ms/step - loss: 0.2356 - auc: 0.9337\n",
      "Epoch 6/30\n",
      "329/329 [==============================] - 1s 2ms/step - loss: 0.2287 - auc: 0.9376\n",
      "Epoch 1/30\n",
      "329/329 [==============================] - 2s 2ms/step - loss: 0.4332 - auc: 0.6861\n",
      "Epoch 2/30\n",
      "329/329 [==============================] - 1s 2ms/step - loss: 0.3137 - auc: 0.8855\n",
      "Epoch 3/30\n",
      "329/329 [==============================] - 1s 2ms/step - loss: 0.2791 - auc: 0.9064\n",
      "Epoch 4/30\n",
      "329/329 [==============================] - 1s 2ms/step - loss: 0.2699 - auc: 0.9117\n",
      "Epoch 5/30\n",
      "329/329 [==============================] - 1s 2ms/step - loss: 0.2633 - auc: 0.9159\n",
      "Epoch 6/30\n",
      "329/329 [==============================] - 1s 2ms/step - loss: 0.2580 - auc: 0.9198\n",
      "Epoch 1/30\n",
      "329/329 [==============================] - 2s 4ms/step - loss: 0.4255 - auc: 0.6994\n",
      "Epoch 2/30\n",
      "329/329 [==============================] - 1s 2ms/step - loss: 0.3077 - auc: 0.8908\n",
      "Epoch 3/30\n",
      "329/329 [==============================] - 1s 2ms/step - loss: 0.2808 - auc: 0.9069\n",
      "Epoch 4/30\n",
      "329/329 [==============================] - 1s 2ms/step - loss: 0.2729 - auc: 0.9111\n",
      "Epoch 5/30\n",
      "329/329 [==============================] - 1s 2ms/step - loss: 0.2670 - auc: 0.9149\n",
      "Epoch 6/30\n",
      "329/329 [==============================] - 1s 2ms/step - loss: 0.2638 - auc: 0.9169\n",
      "Epoch 1/30\n",
      "329/329 [==============================] - 2s 2ms/step - loss: 0.4260 - auc: 0.6972\n",
      "Epoch 2/30\n",
      "329/329 [==============================] - 1s 2ms/step - loss: 0.3136 - auc: 0.8869\n",
      "Epoch 3/30\n",
      "329/329 [==============================] - 1s 2ms/step - loss: 0.2878 - auc: 0.8991\n",
      "Epoch 4/30\n",
      "329/329 [==============================] - 1s 2ms/step - loss: 0.2788 - auc: 0.9052\n",
      "Epoch 5/30\n",
      "329/329 [==============================] - 1s 2ms/step - loss: 0.2736 - auc: 0.9108\n",
      "Epoch 6/30\n",
      "329/329 [==============================] - 1s 2ms/step - loss: 0.2698 - auc: 0.9138\n",
      "Epoch 1/30\n",
      "329/329 [==============================] - 2s 2ms/step - loss: 0.4255 - auc: 0.6869\n",
      "Epoch 2/30\n",
      "329/329 [==============================] - 1s 2ms/step - loss: 0.3090 - auc: 0.8881\n",
      "Epoch 3/30\n",
      "329/329 [==============================] - 1s 2ms/step - loss: 0.2776 - auc: 0.9056\n",
      "Epoch 4/30\n",
      "329/329 [==============================] - 1s 2ms/step - loss: 0.2696 - auc: 0.9112\n",
      "Epoch 5/30\n",
      "329/329 [==============================] - 1s 2ms/step - loss: 0.2624 - auc: 0.9169\n",
      "Epoch 6/30\n",
      "329/329 [==============================] - 1s 2ms/step - loss: 0.2581 - auc: 0.9199\n",
      "Epoch 1/30\n",
      "329/329 [==============================] - 2s 2ms/step - loss: 0.4520 - auc: 0.6309\n",
      "Epoch 2/30\n",
      "329/329 [==============================] - 1s 2ms/step - loss: 0.3211 - auc: 0.8732\n",
      "Epoch 3/30\n",
      "329/329 [==============================] - 1s 2ms/step - loss: 0.2856 - auc: 0.8970\n",
      "Epoch 4/30\n",
      "329/329 [==============================] - 1s 2ms/step - loss: 0.2758 - auc: 0.9051\n",
      "Epoch 5/30\n",
      "329/329 [==============================] - 1s 2ms/step - loss: 0.2698 - auc: 0.9110\n",
      "Epoch 6/30\n",
      "329/329 [==============================] - 1s 2ms/step - loss: 0.2661 - auc: 0.9137\n",
      "Epoch 1/30\n",
      "329/329 [==============================] - 2s 2ms/step - loss: 0.4647 - auc: 0.6045\n",
      "Epoch 2/30\n",
      "329/329 [==============================] - 1s 2ms/step - loss: 0.3301 - auc: 0.8695\n",
      "Epoch 3/30\n",
      "329/329 [==============================] - 1s 2ms/step - loss: 0.2852 - auc: 0.8996\n",
      "Epoch 4/30\n",
      "329/329 [==============================] - 1s 2ms/step - loss: 0.2706 - auc: 0.9088\n",
      "Epoch 5/30\n",
      "329/329 [==============================] - 1s 2ms/step - loss: 0.2639 - auc: 0.9141\n",
      "Epoch 6/30\n",
      "329/329 [==============================] - 1s 2ms/step - loss: 0.2601 - auc: 0.9164\n",
      "Epoch 1/30\n",
      "329/329 [==============================] - 2s 2ms/step - loss: 0.4918 - auc: 0.5050\n",
      "Epoch 2/30\n",
      "329/329 [==============================] - 1s 2ms/step - loss: 0.4157 - auc: 0.7039\n",
      "Epoch 3/30\n",
      "329/329 [==============================] - 1s 2ms/step - loss: 0.3774 - auc: 0.8267\n",
      "Epoch 4/30\n",
      "329/329 [==============================] - 1s 2ms/step - loss: 0.3416 - auc: 0.8705\n",
      "Epoch 5/30\n",
      "329/329 [==============================] - 1s 2ms/step - loss: 0.3122 - auc: 0.8865\n",
      "Epoch 6/30\n",
      "329/329 [==============================] - 1s 2ms/step - loss: 0.2932 - auc: 0.8954\n",
      "Epoch 1/30\n",
      "329/329 [==============================] - 2s 2ms/step - loss: 0.4817 - auc: 0.5690\n",
      "Epoch 2/30\n",
      "329/329 [==============================] - 1s 2ms/step - loss: 0.4044 - auc: 0.7444\n",
      "Epoch 3/30\n",
      "329/329 [==============================] - 1s 2ms/step - loss: 0.3702 - auc: 0.8243\n",
      "Epoch 4/30\n",
      "329/329 [==============================] - 1s 2ms/step - loss: 0.3352 - auc: 0.8642\n",
      "Epoch 5/30\n",
      "329/329 [==============================] - 1s 2ms/step - loss: 0.3070 - auc: 0.8848\n",
      "Epoch 6/30\n",
      "329/329 [==============================] - 1s 2ms/step - loss: 0.2915 - auc: 0.8930\n",
      "Epoch 1/30\n",
      "329/329 [==============================] - 2s 2ms/step - loss: 0.4926 - auc: 0.5566\n",
      "Epoch 2/30\n",
      "329/329 [==============================] - 1s 2ms/step - loss: 0.4073 - auc: 0.7348\n",
      "Epoch 3/30\n",
      "329/329 [==============================] - 1s 2ms/step - loss: 0.3674 - auc: 0.8293\n",
      "Epoch 4/30\n",
      "329/329 [==============================] - 1s 2ms/step - loss: 0.3337 - auc: 0.8701\n",
      "Epoch 5/30\n",
      "329/329 [==============================] - 1s 2ms/step - loss: 0.3070 - auc: 0.8901\n",
      "Epoch 6/30\n",
      "329/329 [==============================] - 1s 2ms/step - loss: 0.2936 - auc: 0.8954\n",
      "Epoch 1/30\n",
      "329/329 [==============================] - 2s 2ms/step - loss: 0.4775 - auc: 0.5567\n",
      "Epoch 2/30\n",
      "329/329 [==============================] - 1s 2ms/step - loss: 0.3896 - auc: 0.7909\n",
      "Epoch 3/30\n",
      "329/329 [==============================] - 1s 2ms/step - loss: 0.3384 - auc: 0.8700\n",
      "Epoch 4/30\n",
      "329/329 [==============================] - 1s 2ms/step - loss: 0.3052 - auc: 0.8914\n",
      "Epoch 5/30\n",
      "329/329 [==============================] - 1s 2ms/step - loss: 0.2872 - auc: 0.9000\n",
      "Epoch 6/30\n",
      "329/329 [==============================] - 1s 2ms/step - loss: 0.2769 - auc: 0.9066\n",
      "Epoch 1/30\n",
      "329/329 [==============================] - 2s 2ms/step - loss: 0.4778 - auc: 0.5716\n",
      "Epoch 2/30\n",
      "329/329 [==============================] - 1s 2ms/step - loss: 0.3872 - auc: 0.7847\n",
      "Epoch 3/30\n",
      "329/329 [==============================] - 1s 2ms/step - loss: 0.3359 - auc: 0.8645\n",
      "Epoch 4/30\n",
      "329/329 [==============================] - 1s 2ms/step - loss: 0.2994 - auc: 0.8888\n",
      "Epoch 5/30\n",
      "329/329 [==============================] - 1s 2ms/step - loss: 0.2833 - auc: 0.8971\n",
      "Epoch 6/30\n",
      "329/329 [==============================] - 1s 2ms/step - loss: 0.2771 - auc: 0.9028\n",
      "Epoch 1/30\n",
      "329/329 [==============================] - 2s 2ms/step - loss: 0.5302 - auc: 0.5313\n",
      "Epoch 2/30\n",
      "329/329 [==============================] - 1s 2ms/step - loss: 0.4085 - auc: 0.7518\n",
      "Epoch 3/30\n",
      "329/329 [==============================] - 1s 2ms/step - loss: 0.3601 - auc: 0.8527\n",
      "Epoch 4/30\n",
      "329/329 [==============================] - 1s 2ms/step - loss: 0.3151 - auc: 0.8798\n",
      "Epoch 5/30\n",
      "329/329 [==============================] - 1s 2ms/step - loss: 0.2905 - auc: 0.8887\n",
      "Epoch 6/30\n",
      "329/329 [==============================] - 1s 2ms/step - loss: 0.2798 - auc: 0.8956\n",
      "Epoch 1/30\n",
      "99/99 [==============================] - 1s 4ms/step - loss: 0.4483 - auc: 0.6583\n",
      "Epoch 2/30\n",
      "99/99 [==============================] - 0s 3ms/step - loss: 0.2896 - auc: 0.9030\n",
      "Epoch 3/30\n",
      "99/99 [==============================] - 0s 3ms/step - loss: 0.2677 - auc: 0.9161\n",
      "Epoch 4/30\n",
      "99/99 [==============================] - 0s 3ms/step - loss: 0.2596 - auc: 0.9209\n",
      "Epoch 5/30\n",
      "99/99 [==============================] - 0s 3ms/step - loss: 0.2533 - auc: 0.9245\n",
      "Epoch 6/30\n",
      "99/99 [==============================] - 0s 3ms/step - loss: 0.2471 - auc: 0.9285\n"
     ]
    },
    {
     "data": {
      "text/plain": [
       "GridSearchCV(cv=6,\n",
       "             estimator=<keras.wrappers.scikit_learn.KerasClassifier object at 0x7f6fa739dad0>,\n",
       "             param_grid={'batch_size': [100, 25],\n",
       "                         'callbacks': [<keras.callbacks.EarlyStopping object at 0x7f6fa74622d0>],\n",
       "                         'epochs': [30],\n",
       "                         'optimizer': ['RMSprop', 'Adam', 'Adamax', 'sgd']},\n",
       "             scoring='roc_auc')"
      ]
     },
     "execution_count": 51,
     "metadata": {},
     "output_type": "execute_result"
    }
   ],
   "source": [
    "deep_model.fit(X_train, y_train)"
   ]
  },
  {
   "cell_type": "code",
   "execution_count": 52,
   "id": "f81a98de",
   "metadata": {
    "execution": {
     "iopub.execute_input": "2022-06-25T18:43:54.169780Z",
     "iopub.status.busy": "2022-06-25T18:43:54.169130Z",
     "iopub.status.idle": "2022-06-25T18:43:54.175214Z",
     "shell.execute_reply": "2022-06-25T18:43:54.174263Z"
    },
    "papermill": {
     "duration": 1.352223,
     "end_time": "2022-06-25T18:43:54.177362",
     "exception": false,
     "start_time": "2022-06-25T18:43:52.825139",
     "status": "completed"
    },
    "tags": []
   },
   "outputs": [
    {
     "data": {
      "text/plain": [
       "{'batch_size': 100,\n",
       " 'callbacks': <keras.callbacks.EarlyStopping at 0x7f6fa74622d0>,\n",
       " 'epochs': 30,\n",
       " 'optimizer': 'Adam'}"
      ]
     },
     "execution_count": 52,
     "metadata": {},
     "output_type": "execute_result"
    }
   ],
   "source": [
    "#Best Parameters\n",
    "deep_model.best_params_"
   ]
  },
  {
   "cell_type": "code",
   "execution_count": 53,
   "id": "59efc126",
   "metadata": {
    "execution": {
     "iopub.execute_input": "2022-06-25T18:43:56.940859Z",
     "iopub.status.busy": "2022-06-25T18:43:56.940562Z",
     "iopub.status.idle": "2022-06-25T18:43:56.946202Z",
     "shell.execute_reply": "2022-06-25T18:43:56.945364Z"
    },
    "papermill": {
     "duration": 1.395778,
     "end_time": "2022-06-25T18:43:56.948254",
     "exception": false,
     "start_time": "2022-06-25T18:43:55.552476",
     "status": "completed"
    },
    "tags": []
   },
   "outputs": [
    {
     "data": {
      "text/plain": [
       "0.9239658853424793"
      ]
     },
     "execution_count": 53,
     "metadata": {},
     "output_type": "execute_result"
    }
   ],
   "source": [
    "#Best CrossValidation result (across all folds)\n",
    "deep_model.best_score_"
   ]
  },
  {
   "cell_type": "markdown",
   "id": "c82d5138",
   "metadata": {
    "papermill": {
     "duration": 1.339792,
     "end_time": "2022-06-25T18:43:59.654937",
     "exception": false,
     "start_time": "2022-06-25T18:43:58.315145",
     "status": "completed"
    },
    "tags": []
   },
   "source": [
    "#We see that the neural network model has the highest cross-validation score. Second the logistic regression and then\n",
    "#Random Forest.\n",
    "\n",
    "#We will implement the prediction and we will do it with the GridSearch (you don't have to train again because it is already trained with\n",
    "#all data - 'refit' parameter is 'True' by default.)"
   ]
  },
  {
   "cell_type": "code",
   "execution_count": 54,
   "id": "cf57c458",
   "metadata": {
    "execution": {
     "iopub.execute_input": "2022-06-25T18:44:02.350300Z",
     "iopub.status.busy": "2022-06-25T18:44:02.350030Z",
     "iopub.status.idle": "2022-06-25T18:44:02.570690Z",
     "shell.execute_reply": "2022-06-25T18:44:02.569893Z"
    },
    "papermill": {
     "duration": 1.571898,
     "end_time": "2022-06-25T18:44:02.572719",
     "exception": false,
     "start_time": "2022-06-25T18:44:01.000821",
     "status": "completed"
    },
    "tags": []
   },
   "outputs": [
    {
     "data": {
      "text/plain": [
       "0.9292753564621176"
      ]
     },
     "execution_count": 54,
     "metadata": {},
     "output_type": "execute_result"
    }
   ],
   "source": [
    "#Our score for the test.\n",
    "\n",
    "prob_test=deep_model.predict_proba(X_test)\n",
    "\n",
    "roc_auc_score(y_test, prob_test[:,1])"
   ]
  },
  {
   "cell_type": "code",
   "execution_count": 55,
   "id": "cb5b7438",
   "metadata": {
    "execution": {
     "iopub.execute_input": "2022-06-25T18:44:05.336558Z",
     "iopub.status.busy": "2022-06-25T18:44:05.336251Z",
     "iopub.status.idle": "2022-06-25T18:44:05.602908Z",
     "shell.execute_reply": "2022-06-25T18:44:05.602010Z"
    },
    "papermill": {
     "duration": 1.628301,
     "end_time": "2022-06-25T18:44:05.605197",
     "exception": false,
     "start_time": "2022-06-25T18:44:03.976896",
     "status": "completed"
    },
    "tags": []
   },
   "outputs": [
    {
     "data": {
      "text/plain": [
       "<AxesSubplot:title={'center':'ROC Curves'}, xlabel='False Positive Rate', ylabel='True Positive Rate'>"
      ]
     },
     "execution_count": 55,
     "metadata": {},
     "output_type": "execute_result"
    },
    {
     "data": {
      "image/png": "[encoded data removed]",
      "text/plain": [
       "<Figure size 432x288 with 1 Axes>"
      ]
     },
     "metadata": {
      "needs_background": "light"
     },
     "output_type": "display_data"
    }
   ],
   "source": [
    "#ROC AUC plot\n",
    "\n",
    "plot_roc(y_test, prob_test)"
   ]
  },
  {
   "cell_type": "code",
   "execution_count": 56,
   "id": "8a80e309",
   "metadata": {
    "execution": {
     "iopub.execute_input": "2022-06-25T18:44:08.340726Z",
     "iopub.status.busy": "2022-06-25T18:44:08.339908Z",
     "iopub.status.idle": "2022-06-25T18:44:08.513003Z",
     "shell.execute_reply": "2022-06-25T18:44:08.512155Z"
    },
    "papermill": {
     "duration": 1.533133,
     "end_time": "2022-06-25T18:44:08.515329",
     "exception": false,
     "start_time": "2022-06-25T18:44:06.982196",
     "status": "completed"
    },
    "tags": []
   },
   "outputs": [
    {
     "data": {
      "image/png": "[encoded data removed]",
      "text/plain": [
       "<Figure size 360x360 with 1 Axes>"
      ]
     },
     "metadata": {
      "needs_background": "light"
     },
     "output_type": "display_data"
    }
   ],
   "source": [
    "#ROC AUC takes into account the negative (0) class\n",
    "#and in unbalanced datasets like ours the inclusion of negative class (majority according to number of observations)\n",
    "#presents overoptimistic result.\n",
    "#In our case it would be better to take into account the balance between Recall (sensitivity) and Precision.\n",
    "# We try to predict the maximum of positive class (sensitivity) but at the same time trying not to harm the precision\n",
    "#(no use of negative class total in denominator in precision calculation)\n",
    "\n",
    "\n",
    "precision,recall,thresholds=precision_recall_curve(y_test, prob_test[:,1])\n",
    "\n",
    "metrics=pd.DataFrame(np.column_stack([precision[:-1],recall[:-1],thresholds]), columns=['Precision','Recall','Thresholds'])\n",
    "\n",
    "\n",
    "\n",
    "plt.figure(figsize=(5,5))\n",
    "plt.plot(metrics.Thresholds,metrics.Recall,  label='Recall')\n",
    "plt.plot(metrics.Thresholds,metrics.Precision,  c='y', label='Precision')\n",
    "plt.ylabel('Recall, Precision')\n",
    "plt.xlabel('Cutoff/Threshold')\n",
    "plt.title('Recall/Precision versus Thresholds')\n",
    "plt.legend(loc=3)\n",
    "plt.show()"
   ]
  },
  {
   "cell_type": "code",
   "execution_count": 57,
   "id": "7b359af8",
   "metadata": {
    "execution": {
     "iopub.execute_input": "2022-06-25T18:44:11.218746Z",
     "iopub.status.busy": "2022-06-25T18:44:11.218477Z",
     "iopub.status.idle": "2022-06-25T18:44:11.226183Z",
     "shell.execute_reply": "2022-06-25T18:44:11.225381Z"
    },
    "papermill": {
     "duration": 1.357492,
     "end_time": "2022-06-25T18:44:11.228231",
     "exception": false,
     "start_time": "2022-06-25T18:44:09.870739",
     "status": "completed"
    },
    "tags": []
   },
   "outputs": [],
   "source": [
    "#Choosing the cutoff at the crosspoint of precision and recall can be an option.\n",
    "\n",
    "cutoff=metrics.loc[np.abs(metrics.Recall-metrics.Precision)==np.abs(metrics.Recall-metrics.Precision).min(),'Thresholds']\n",
    "\n",
    "classes=np.where(prob_test[:,1]>=cutoff.values,1,0)"
   ]
  },
  {
   "cell_type": "code",
   "execution_count": 58,
   "id": "90138ccb",
   "metadata": {
    "execution": {
     "iopub.execute_input": "2022-06-25T18:44:13.919212Z",
     "iopub.status.busy": "2022-06-25T18:44:13.918932Z",
     "iopub.status.idle": "2022-06-25T18:44:13.931348Z",
     "shell.execute_reply": "2022-06-25T18:44:13.930705Z"
    },
    "papermill": {
     "duration": 1.364772,
     "end_time": "2022-06-25T18:44:13.934066",
     "exception": false,
     "start_time": "2022-06-25T18:44:12.569294",
     "status": "completed"
    },
    "tags": []
   },
   "outputs": [
    {
     "name": "stdout",
     "output_type": "stream",
     "text": [
      "              precision    recall  f1-score   support\n",
      "\n",
      "           0       0.94      0.94      0.94      2115\n",
      "           1       0.65      0.65      0.65       351\n",
      "\n",
      "    accuracy                           0.90      2466\n",
      "   macro avg       0.80      0.80      0.80      2466\n",
      "weighted avg       0.90      0.90      0.90      2466\n",
      "\n"
     ]
    }
   ],
   "source": [
    "print(classification_report(y_test,classes))"
   ]
  },
  {
   "cell_type": "code",
   "execution_count": 59,
   "id": "9b1843ff",
   "metadata": {
    "execution": {
     "iopub.execute_input": "2022-06-25T18:44:16.689550Z",
     "iopub.status.busy": "2022-06-25T18:44:16.689255Z",
     "iopub.status.idle": "2022-06-25T18:44:16.925787Z",
     "shell.execute_reply": "2022-06-25T18:44:16.925049Z"
    },
    "papermill": {
     "duration": 1.58725,
     "end_time": "2022-06-25T18:44:16.927872",
     "exception": false,
     "start_time": "2022-06-25T18:44:15.340622",
     "status": "completed"
    },
    "tags": []
   },
   "outputs": [
    {
     "data": {
      "text/plain": [
       "<AxesSubplot:title={'center':'Cumulative Gains Curve'}, xlabel='Percentage of sample', ylabel='Gain'>"
      ]
     },
     "execution_count": 59,
     "metadata": {},
     "output_type": "execute_result"
    },
    {
     "data": {
      "image/png": "[encoded data removed]",
      "text/plain": [
       "<Figure size 432x288 with 1 Axes>"
      ]
     },
     "metadata": {
      "needs_background": "light"
     },
     "output_type": "display_data"
    }
   ],
   "source": [
    "#We can also decide on the threshold in another way, taking into account the Recall or maximizing positive cases\n",
    "#minimizing the sample size. For example, if among 10,000 new unclassified clients we want to send a campaign of\n",
    "# marketing only at 2000 (20%) we can place the threshold at the 80th percentile (20% higher in the vector of probabilities).\n",
    "#Using the following graph we can see that we can achieve more or less 76% positives from the total positives in\n",
    "#the 10000\n",
    "\n",
    "plot_cumulative_gain(y_test, prob_test)"
   ]
  },
  {
   "cell_type": "code",
   "execution_count": 60,
   "id": "a6ee0eaa",
   "metadata": {
    "execution": {
     "iopub.execute_input": "2022-06-25T18:44:19.664258Z",
     "iopub.status.busy": "2022-06-25T18:44:19.663724Z",
     "iopub.status.idle": "2022-06-25T18:44:19.677689Z",
     "shell.execute_reply": "2022-06-25T18:44:19.676604Z"
    },
    "papermill": {
     "duration": 1.403161,
     "end_time": "2022-06-25T18:44:19.680232",
     "exception": false,
     "start_time": "2022-06-25T18:44:18.277071",
     "status": "completed"
    },
    "tags": []
   },
   "outputs": [
    {
     "name": "stdout",
     "output_type": "stream",
     "text": [
      "              precision    recall  f1-score   support\n",
      "\n",
      "           0       0.96      0.90      0.93      2115\n",
      "           1       0.56      0.79      0.65       351\n",
      "\n",
      "    accuracy                           0.88      2466\n",
      "   macro avg       0.76      0.84      0.79      2466\n",
      "weighted avg       0.90      0.88      0.89      2466\n",
      "\n"
     ]
    }
   ],
   "source": [
    "percentile=np.percentile(prob_test[:,1], 80)\n",
    "\n",
    "classes=np.where(prob_test[:,1]>=percentile,1,0)\n",
    "\n",
    "print(classification_report(y_test,classes))"
   ]
  }
 ],
 "metadata": {
  "kernelspec": {
   "display_name": "Python 3",
   "language": "python",
   "name": "python3"
  },
  "language_info": {
   "codemirror_mode": {
    "name": "ipython",
    "version": 3
   },
   "file_extension": ".py",
   "mimetype": "text/x-python",
   "name": "python",
   "nbconvert_exporter": "python",
   "pygments_lexer": "ipython3",
   "version": "3.7.12"
  },
  "papermill": {
   "default_parameters": {},
   "duration": 575.107187,
   "end_time": "2022-06-25T18:44:23.645815",
   "environment_variables": {},
   "exception": null,
   "input_path": "__notebook__.ipynb",
   "output_path": "__notebook__.ipynb",
   "parameters": {},
   "start_time": "2022-06-25T18:34:48.538628",
   "version": "2.3.4"
  }
 },
 "nbformat": 4,
 "nbformat_minor": 5
}
